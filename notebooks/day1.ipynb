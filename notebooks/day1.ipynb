{
 "cells": [
  {
   "cell_type": "markdown",
   "metadata": {},
   "source": [
    "### Advanced Python Training at Arcesium - Day 1 ###\n",
    "Sep 25-27, 2019\n",
    "Vikrant Patil\n",
    "\n",
    "These notes are available online at http://notes.pipal.in/2019/arcesium_advanced_sep/day1.html\n",
    "\n",
    "© Pipal Academy LLP\n",
    "\n",
    "[Day 1](http://notes.pipal.in/2019/arcesium_advanced_sep/day1.html) | [Day 2](http://notes.pipal.in/2019/arcesium_advanced_sep/day2.html) | [Day 3](http://notes.pipal.in/2019/arcesium_advanced_sep/day3.html)\n",
    "\n",
    "\n",
    "We will be using python 3 (>= 3.0) from anaconda for this training. You can download it from\n",
    "\n",
    "\n",
    "https://www.anaconda.com/download/"
   ]
  },
  {
   "cell_type": "markdown",
   "metadata": {},
   "source": [
    "### Warmup ###"
   ]
  },
  {
   "cell_type": "code",
   "execution_count": 1,
   "metadata": {},
   "outputs": [],
   "source": [
    "digits = [0, 1, 2, 3, 4, 5, 6, 7, 8, 9]"
   ]
  },
  {
   "cell_type": "code",
   "execution_count": 2,
   "metadata": {},
   "outputs": [
    {
     "data": {
      "text/plain": [
       "0"
      ]
     },
     "execution_count": 2,
     "metadata": {},
     "output_type": "execute_result"
    }
   ],
   "source": [
    "digits[0]"
   ]
  },
  {
   "cell_type": "code",
   "execution_count": 3,
   "metadata": {},
   "outputs": [
    {
     "data": {
      "text/plain": [
       "9"
      ]
     },
     "execution_count": 3,
     "metadata": {},
     "output_type": "execute_result"
    }
   ],
   "source": [
    "digits[-1]"
   ]
  },
  {
   "cell_type": "code",
   "execution_count": 4,
   "metadata": {},
   "outputs": [
    {
     "data": {
      "text/plain": [
       "[2, 3, 4, 5]"
      ]
     },
     "execution_count": 4,
     "metadata": {},
     "output_type": "execute_result"
    }
   ],
   "source": [
    "digits[2:6]"
   ]
  },
  {
   "cell_type": "code",
   "execution_count": 5,
   "metadata": {},
   "outputs": [
    {
     "data": {
      "text/plain": [
       "[0, 1, 2, 3, 4, 5, 6, 7, 8, 9]"
      ]
     },
     "execution_count": 5,
     "metadata": {},
     "output_type": "execute_result"
    }
   ],
   "source": [
    "digits[:]"
   ]
  },
  {
   "cell_type": "code",
   "execution_count": 7,
   "metadata": {},
   "outputs": [
    {
     "data": {
      "text/plain": [
       "[3, 4, 5, 6, 7, 8, 9]"
      ]
     },
     "execution_count": 7,
     "metadata": {},
     "output_type": "execute_result"
    }
   ],
   "source": [
    "digits[3:] #drop first three"
   ]
  },
  {
   "cell_type": "code",
   "execution_count": 8,
   "metadata": {},
   "outputs": [
    {
     "data": {
      "text/plain": [
       "[0, 1, 2, 3, 4]"
      ]
     },
     "execution_count": 8,
     "metadata": {},
     "output_type": "execute_result"
    }
   ],
   "source": [
    "digits[:5]"
   ]
  },
  {
   "cell_type": "code",
   "execution_count": 9,
   "metadata": {},
   "outputs": [
    {
     "data": {
      "text/plain": [
       "[2, 4, 6]"
      ]
     },
     "execution_count": 9,
     "metadata": {},
     "output_type": "execute_result"
    }
   ],
   "source": [
    "digits[2:7:2]"
   ]
  },
  {
   "cell_type": "code",
   "execution_count": 10,
   "metadata": {},
   "outputs": [
    {
     "data": {
      "text/plain": [
       "[0, 2, 4, 6, 8]"
      ]
     },
     "execution_count": 10,
     "metadata": {},
     "output_type": "execute_result"
    }
   ],
   "source": [
    "digits[::2]"
   ]
  },
  {
   "cell_type": "code",
   "execution_count": 11,
   "metadata": {},
   "outputs": [
    {
     "data": {
      "text/plain": [
       "[0, 1, 2, 3, 4]"
      ]
     },
     "execution_count": 11,
     "metadata": {},
     "output_type": "execute_result"
    }
   ],
   "source": [
    "digits[:-5]"
   ]
  },
  {
   "cell_type": "code",
   "execution_count": 12,
   "metadata": {},
   "outputs": [
    {
     "data": {
      "text/plain": [
       "[5, 6, 7, 8, 9]"
      ]
     },
     "execution_count": 12,
     "metadata": {},
     "output_type": "execute_result"
    }
   ],
   "source": [
    "digits[-5:]"
   ]
  },
  {
   "cell_type": "code",
   "execution_count": 13,
   "metadata": {},
   "outputs": [
    {
     "data": {
      "text/plain": [
       "[9, 8, 7, 6, 5, 4, 3, 2, 1, 0]"
      ]
     },
     "execution_count": 13,
     "metadata": {},
     "output_type": "execute_result"
    }
   ],
   "source": [
    "digits[::-1]"
   ]
  },
  {
   "cell_type": "code",
   "execution_count": 14,
   "metadata": {},
   "outputs": [],
   "source": [
    "def is_palindrom(word):\n",
    "    return word == word[::-1]"
   ]
  },
  {
   "cell_type": "code",
   "execution_count": 15,
   "metadata": {},
   "outputs": [
    {
     "data": {
      "text/plain": [
       "True"
      ]
     },
     "execution_count": 15,
     "metadata": {},
     "output_type": "execute_result"
    }
   ],
   "source": [
    "is_palindrom(\"madam\")"
   ]
  },
  {
   "cell_type": "code",
   "execution_count": 17,
   "metadata": {},
   "outputs": [],
   "source": [
    "table = [[1,1,1],[2,2,2],[3,3,3]]"
   ]
  },
  {
   "cell_type": "code",
   "execution_count": 18,
   "metadata": {},
   "outputs": [
    {
     "data": {
      "text/plain": [
       "[1, 1, 1]"
      ]
     },
     "execution_count": 18,
     "metadata": {},
     "output_type": "execute_result"
    }
   ],
   "source": [
    "table[0]"
   ]
  },
  {
   "cell_type": "code",
   "execution_count": 19,
   "metadata": {},
   "outputs": [
    {
     "data": {
      "text/plain": [
       "[3, 3, 3]"
      ]
     },
     "execution_count": 19,
     "metadata": {},
     "output_type": "execute_result"
    }
   ],
   "source": [
    "table[-1]"
   ]
  },
  {
   "cell_type": "markdown",
   "metadata": {},
   "source": [
    "#### list comprehensions ####"
   ]
  },
  {
   "cell_type": "code",
   "execution_count": 20,
   "metadata": {},
   "outputs": [
    {
     "name": "stdout",
     "output_type": "stream",
     "text": [
      "0\n",
      "1\n",
      "2\n",
      "3\n",
      "4\n"
     ]
    }
   ],
   "source": [
    "for i in range(5):\n",
    "    print(i)"
   ]
  },
  {
   "cell_type": "code",
   "execution_count": 21,
   "metadata": {},
   "outputs": [
    {
     "data": {
      "text/plain": [
       "range(0, 5)"
      ]
     },
     "execution_count": 21,
     "metadata": {},
     "output_type": "execute_result"
    }
   ],
   "source": [
    "range(5)"
   ]
  },
  {
   "cell_type": "code",
   "execution_count": 22,
   "metadata": {},
   "outputs": [
    {
     "data": {
      "text/plain": [
       "[0, 1, 2, 3, 4]"
      ]
     },
     "execution_count": 22,
     "metadata": {},
     "output_type": "execute_result"
    }
   ],
   "source": [
    "list(range(5))"
   ]
  },
  {
   "cell_type": "code",
   "execution_count": 23,
   "metadata": {},
   "outputs": [
    {
     "name": "stdout",
     "output_type": "stream",
     "text": [
      "[9, 25, 1, 49, 36]\n"
     ]
    }
   ],
   "source": [
    "nums = [3, 5, 1, 7, 6]\n",
    "sqr = []\n",
    "for n in nums:\n",
    "    sqr.append(n*n)\n",
    "print(sqr)"
   ]
  },
  {
   "cell_type": "code",
   "execution_count": 24,
   "metadata": {},
   "outputs": [
    {
     "data": {
      "text/plain": [
       "[9, 25, 1, 49, 36]"
      ]
     },
     "execution_count": 24,
     "metadata": {},
     "output_type": "execute_result"
    }
   ],
   "source": [
    "[n*n for n in nums]"
   ]
  },
  {
   "cell_type": "code",
   "execution_count": 25,
   "metadata": {},
   "outputs": [],
   "source": [
    "s = [n*n for n in nums]"
   ]
  },
  {
   "cell_type": "code",
   "execution_count": 26,
   "metadata": {},
   "outputs": [
    {
     "data": {
      "text/plain": [
       "[9, 25, 1, 49, 36]"
      ]
     },
     "execution_count": 26,
     "metadata": {},
     "output_type": "execute_result"
    }
   ],
   "source": [
    "s"
   ]
  },
  {
   "cell_type": "code",
   "execution_count": 27,
   "metadata": {},
   "outputs": [],
   "source": [
    "es = [n*n for n in nums if n%2==0]"
   ]
  },
  {
   "cell_type": "code",
   "execution_count": 28,
   "metadata": {},
   "outputs": [
    {
     "data": {
      "text/plain": [
       "[36]"
      ]
     },
     "execution_count": 28,
     "metadata": {},
     "output_type": "execute_result"
    }
   ],
   "source": [
    "es"
   ]
  },
  {
   "cell_type": "code",
   "execution_count": 29,
   "metadata": {},
   "outputs": [
    {
     "data": {
      "text/plain": [
       "[[1, 1, 1], [2, 2, 2], [3, 3, 3]]"
      ]
     },
     "execution_count": 29,
     "metadata": {},
     "output_type": "execute_result"
    }
   ],
   "source": [
    "table"
   ]
  },
  {
   "cell_type": "code",
   "execution_count": 30,
   "metadata": {},
   "outputs": [],
   "source": [
    "matrix = [[1,1,1],[2,2,2],[3,3,3]]"
   ]
  },
  {
   "cell_type": "code",
   "execution_count": 31,
   "metadata": {},
   "outputs": [],
   "source": [
    "def column(data, colnum):\n",
    "    pass"
   ]
  },
  {
   "cell_type": "code",
   "execution_count": 32,
   "metadata": {},
   "outputs": [
    {
     "data": {
      "text/plain": [
       "[1, 1, 1]"
      ]
     },
     "execution_count": 32,
     "metadata": {},
     "output_type": "execute_result"
    }
   ],
   "source": [
    "matrix[0]"
   ]
  },
  {
   "cell_type": "code",
   "execution_count": 33,
   "metadata": {},
   "outputs": [
    {
     "data": {
      "text/plain": [
       "1"
      ]
     },
     "execution_count": 33,
     "metadata": {},
     "output_type": "execute_result"
    }
   ],
   "source": [
    "matrix[0][0]"
   ]
  },
  {
   "cell_type": "code",
   "execution_count": 34,
   "metadata": {},
   "outputs": [
    {
     "data": {
      "text/plain": [
       "2"
      ]
     },
     "execution_count": 34,
     "metadata": {},
     "output_type": "execute_result"
    }
   ],
   "source": [
    "matrix[1][0]"
   ]
  },
  {
   "cell_type": "code",
   "execution_count": 35,
   "metadata": {},
   "outputs": [
    {
     "data": {
      "text/plain": [
       "3"
      ]
     },
     "execution_count": 35,
     "metadata": {},
     "output_type": "execute_result"
    }
   ],
   "source": [
    "matrix[2][0]"
   ]
  },
  {
   "cell_type": "code",
   "execution_count": 41,
   "metadata": {},
   "outputs": [],
   "source": [
    "def column(data, colnum):\n",
    "    rowcount = len(data)\n",
    "    return [data[row][colnum] for row in range(rowcount)]"
   ]
  },
  {
   "cell_type": "code",
   "execution_count": 42,
   "metadata": {},
   "outputs": [],
   "source": [
    "def transpose(data):\n",
    "    colcount = len(data[0])\n",
    "    return [column(data, c) for c in range(colcount)]"
   ]
  },
  {
   "cell_type": "code",
   "execution_count": 43,
   "metadata": {},
   "outputs": [
    {
     "data": {
      "text/plain": [
       "[[1, 2, 3], [1, 2, 3], [1, 2, 3]]"
      ]
     },
     "execution_count": 43,
     "metadata": {},
     "output_type": "execute_result"
    }
   ],
   "source": [
    "transpose(matrix)"
   ]
  },
  {
   "cell_type": "code",
   "execution_count": 44,
   "metadata": {},
   "outputs": [],
   "source": [
    "def column(data, colnum):\n",
    "    return [row[colnum] for row in data]"
   ]
  },
  {
   "cell_type": "markdown",
   "metadata": {},
   "source": [
    "#### reading files ###"
   ]
  },
  {
   "cell_type": "code",
   "execution_count": 45,
   "metadata": {},
   "outputs": [
    {
     "name": "stdout",
     "output_type": "stream",
     "text": [
      "Writing data.csv\n"
     ]
    }
   ],
   "source": [
    "%%file data.csv\n",
    "A1,A2,A3\n",
    "B1,B3,B3\n",
    "C1,C2,C3"
   ]
  },
  {
   "cell_type": "code",
   "execution_count": 46,
   "metadata": {},
   "outputs": [],
   "source": [
    "def csvparser(filename):\n",
    "    with open(filename) as f:\n",
    "        csvdata = []\n",
    "        for line in f:\n",
    "            csvdata.append(line.strip().split(\",\"))\n",
    "        return csvdata\n",
    "            "
   ]
  },
  {
   "cell_type": "code",
   "execution_count": 47,
   "metadata": {},
   "outputs": [
    {
     "data": {
      "text/plain": [
       "[['A1', 'A2', 'A3'], ['B1', 'B3', 'B3'], ['C1', 'C2', 'C3']]"
      ]
     },
     "execution_count": 47,
     "metadata": {},
     "output_type": "execute_result"
    }
   ],
   "source": [
    "csvparser(\"data.csv\")"
   ]
  },
  {
   "cell_type": "code",
   "execution_count": 48,
   "metadata": {},
   "outputs": [],
   "source": [
    "def csvparser(filename):\n",
    "    with open(filename) as f:\n",
    "        return [line.strip().split(\",\") for line in f]"
   ]
  },
  {
   "cell_type": "code",
   "execution_count": 49,
   "metadata": {},
   "outputs": [],
   "source": [
    "def qsort(data):\n",
    "    if not data:\n",
    "        return []\n",
    "    \n",
    "    pivot = data[0]\n",
    "    \n",
    "    less = [n for n in data[1:] if n <pivot]\n",
    "    greater = [n for n in data[1:] if n>= pivot]\n",
    "    \n",
    "    return qsort(less) + [pivot] + qsort(greater)"
   ]
  },
  {
   "cell_type": "code",
   "execution_count": 50,
   "metadata": {},
   "outputs": [
    {
     "data": {
      "text/plain": [
       "[1, 3, 3, 6, 23, 34, 343, 778]"
      ]
     },
     "execution_count": 50,
     "metadata": {},
     "output_type": "execute_result"
    }
   ],
   "source": [
    "qsort([343,34,1,3,23,6,778,3])"
   ]
  },
  {
   "cell_type": "code",
   "execution_count": 51,
   "metadata": {},
   "outputs": [
    {
     "data": {
      "text/plain": [
       "[]"
      ]
     },
     "execution_count": 51,
     "metadata": {},
     "output_type": "execute_result"
    }
   ],
   "source": [
    "qsort([])"
   ]
  },
  {
   "cell_type": "code",
   "execution_count": 52,
   "metadata": {},
   "outputs": [
    {
     "data": {
      "text/plain": [
       "[1, 2, 3, 4, 5]"
      ]
     },
     "execution_count": 52,
     "metadata": {},
     "output_type": "execute_result"
    }
   ],
   "source": [
    "qsort([1,2,3,4,5])"
   ]
  },
  {
   "cell_type": "code",
   "execution_count": 54,
   "metadata": {},
   "outputs": [
    {
     "data": {
      "text/plain": [
       "[0, 1, 2, 3, 4]"
      ]
     },
     "execution_count": 54,
     "metadata": {},
     "output_type": "execute_result"
    }
   ],
   "source": [
    "qsort(list(reversed(range(5))))"
   ]
  },
  {
   "cell_type": "markdown",
   "metadata": {},
   "source": [
    "### Functions ###\n",
    "\n",
    "#### Positional arguments ####"
   ]
  },
  {
   "cell_type": "code",
   "execution_count": 55,
   "metadata": {},
   "outputs": [],
   "source": [
    "def cylinder_volume(radius, height):\n",
    "    return 3.14*radius**2*height"
   ]
  },
  {
   "cell_type": "code",
   "execution_count": 56,
   "metadata": {},
   "outputs": [
    {
     "data": {
      "text/plain": [
       "31.400000000000002"
      ]
     },
     "execution_count": 56,
     "metadata": {},
     "output_type": "execute_result"
    }
   ],
   "source": [
    "cylinder_volume(1.0, 10)"
   ]
  },
  {
   "cell_type": "code",
   "execution_count": 57,
   "metadata": {},
   "outputs": [
    {
     "data": {
      "text/plain": [
       "314.0"
      ]
     },
     "execution_count": 57,
     "metadata": {},
     "output_type": "execute_result"
    }
   ],
   "source": [
    "cylinder_volume(10, 1.0)"
   ]
  },
  {
   "cell_type": "markdown",
   "metadata": {},
   "source": [
    "#### named parameters ###"
   ]
  },
  {
   "cell_type": "code",
   "execution_count": 58,
   "metadata": {},
   "outputs": [
    {
     "data": {
      "text/plain": [
       "31.400000000000002"
      ]
     },
     "execution_count": 58,
     "metadata": {},
     "output_type": "execute_result"
    }
   ],
   "source": [
    "cylinder_volume(radius=1.0, height=10)"
   ]
  },
  {
   "cell_type": "code",
   "execution_count": 59,
   "metadata": {},
   "outputs": [
    {
     "data": {
      "text/plain": [
       "31.400000000000002"
      ]
     },
     "execution_count": 59,
     "metadata": {},
     "output_type": "execute_result"
    }
   ],
   "source": [
    "cylinder_volume(height=10, radius=1)"
   ]
  },
  {
   "cell_type": "code",
   "execution_count": 60,
   "metadata": {},
   "outputs": [
    {
     "ename": "TypeError",
     "evalue": "unsupported operand type(s) for ** or pow(): 'str' and 'int'",
     "output_type": "error",
     "traceback": [
      "\u001b[0;31m---------------------------------------------------------------------------\u001b[0m",
      "\u001b[0;31mTypeError\u001b[0m                                 Traceback (most recent call last)",
      "\u001b[0;32m<ipython-input-60-2d9957198c45>\u001b[0m in \u001b[0;36m<module>\u001b[0;34m\u001b[0m\n\u001b[0;32m----> 1\u001b[0;31m \u001b[0;34m\"*\"\u001b[0m\u001b[0;34m**\u001b[0m\u001b[0;36m2\u001b[0m\u001b[0;34m\u001b[0m\u001b[0;34m\u001b[0m\u001b[0m\n\u001b[0m",
      "\u001b[0;31mTypeError\u001b[0m: unsupported operand type(s) for ** or pow(): 'str' and 'int'"
     ]
    }
   ],
   "source": [
    "\"*\"**2"
   ]
  },
  {
   "cell_type": "code",
   "execution_count": 61,
   "metadata": {},
   "outputs": [
    {
     "data": {
      "text/plain": [
       "'##'"
      ]
     },
     "execution_count": 61,
     "metadata": {},
     "output_type": "execute_result"
    }
   ],
   "source": [
    "\"#\"*2"
   ]
  },
  {
   "cell_type": "code",
   "execution_count": 62,
   "metadata": {},
   "outputs": [
    {
     "data": {
      "text/plain": [
       "31.400000000000002"
      ]
     },
     "execution_count": 62,
     "metadata": {},
     "output_type": "execute_result"
    }
   ],
   "source": [
    "cylinder_volume(1, height=10)"
   ]
  },
  {
   "cell_type": "code",
   "execution_count": 63,
   "metadata": {},
   "outputs": [
    {
     "ename": "SyntaxError",
     "evalue": "positional argument follows keyword argument (<ipython-input-63-41de46ab70ab>, line 1)",
     "output_type": "error",
     "traceback": [
      "\u001b[0;36m  File \u001b[0;32m\"<ipython-input-63-41de46ab70ab>\"\u001b[0;36m, line \u001b[0;32m1\u001b[0m\n\u001b[0;31m    cylinder_volume(height=10, 1)\u001b[0m\n\u001b[0m                              ^\u001b[0m\n\u001b[0;31mSyntaxError\u001b[0m\u001b[0;31m:\u001b[0m positional argument follows keyword argument\n"
     ]
    }
   ],
   "source": [
    "cylinder_volume(height=10, 1)"
   ]
  },
  {
   "cell_type": "markdown",
   "metadata": {},
   "source": [
    "Named argumnets can only follow after all positional arguments are over. After named argument you can not give postional argument"
   ]
  },
  {
   "cell_type": "markdown",
   "metadata": {},
   "source": [
    "#### default arguments ####"
   ]
  },
  {
   "cell_type": "code",
   "execution_count": 64,
   "metadata": {},
   "outputs": [],
   "source": [
    "def cylinder_volume(radius=1.0, height=1.0):\n",
    "    return 3.14*radius**2*height"
   ]
  },
  {
   "cell_type": "code",
   "execution_count": 65,
   "metadata": {},
   "outputs": [
    {
     "data": {
      "text/plain": [
       "3.14"
      ]
     },
     "execution_count": 65,
     "metadata": {},
     "output_type": "execute_result"
    }
   ],
   "source": [
    "cylinder_volume()"
   ]
  },
  {
   "cell_type": "code",
   "execution_count": 66,
   "metadata": {},
   "outputs": [
    {
     "data": {
      "text/plain": [
       "78.5"
      ]
     },
     "execution_count": 66,
     "metadata": {},
     "output_type": "execute_result"
    }
   ],
   "source": [
    "cylinder_volume(radius=5)"
   ]
  },
  {
   "cell_type": "code",
   "execution_count": 67,
   "metadata": {},
   "outputs": [
    {
     "data": {
      "text/plain": [
       "31.400000000000002"
      ]
     },
     "execution_count": 67,
     "metadata": {},
     "output_type": "execute_result"
    }
   ],
   "source": [
    "cylinder_volume(height=10)"
   ]
  },
  {
   "cell_type": "code",
   "execution_count": 69,
   "metadata": {},
   "outputs": [
    {
     "data": {
      "text/plain": [
       "28.26"
      ]
     },
     "execution_count": 69,
     "metadata": {},
     "output_type": "execute_result"
    }
   ],
   "source": [
    "cylinder_volume(3) #radius 3 and height as default"
   ]
  },
  {
   "cell_type": "code",
   "execution_count": 73,
   "metadata": {},
   "outputs": [
    {
     "name": "stdout",
     "output_type": "stream",
     "text": [
      "23.369534022062787\n",
      "45.36953402206279\n",
      "6.369534022062789\n",
      "3.3695340220627883\n"
     ]
    }
   ],
   "source": [
    "import random\n",
    "\n",
    "def jitter(data, dev=random.random()):\n",
    "    return data + dev\n",
    "\n",
    "for n in [23,45,6,3]:\n",
    "    print(jitter(n))"
   ]
  },
  {
   "cell_type": "code",
   "execution_count": 74,
   "metadata": {},
   "outputs": [],
   "source": [
    "def jitter1(data, dev=None):\n",
    "    if not dev:\n",
    "        dev = random.random()\n",
    "    return data + dev"
   ]
  },
  {
   "cell_type": "code",
   "execution_count": 75,
   "metadata": {},
   "outputs": [
    {
     "name": "stdout",
     "output_type": "stream",
     "text": [
      "0.7433648557333602\n",
      "1.652206141920452\n",
      "2.408798971817391\n",
      "3.2595466594573126\n",
      "4.773604607895664\n"
     ]
    }
   ],
   "source": [
    "for n in range(5):\n",
    "    print(jitter1(n))"
   ]
  },
  {
   "cell_type": "code",
   "execution_count": 78,
   "metadata": {},
   "outputs": [],
   "source": [
    "def collection(data, default=[]):\n",
    "    default.extend(data)\n",
    "    return default\n",
    "\n",
    "def collection1(data, default=None):\n",
    "    if not default:\n",
    "        default = []\n",
    "    default.extend(data)\n",
    "    return default\n",
    "    "
   ]
  },
  {
   "cell_type": "code",
   "execution_count": 79,
   "metadata": {},
   "outputs": [
    {
     "data": {
      "text/plain": [
       "[1, 1, 1, 1, 2, 3]"
      ]
     },
     "execution_count": 79,
     "metadata": {},
     "output_type": "execute_result"
    }
   ],
   "source": [
    "collection([1,2,3], default=[1,1,1])"
   ]
  },
  {
   "cell_type": "code",
   "execution_count": 80,
   "metadata": {},
   "outputs": [
    {
     "data": {
      "text/plain": [
       "[1, 2, 3]"
      ]
     },
     "execution_count": 80,
     "metadata": {},
     "output_type": "execute_result"
    }
   ],
   "source": [
    "collection([1,2,3])"
   ]
  },
  {
   "cell_type": "code",
   "execution_count": 82,
   "metadata": {},
   "outputs": [
    {
     "data": {
      "text/plain": [
       "[1, 2, 3, 1, 1, 1]"
      ]
     },
     "execution_count": 82,
     "metadata": {},
     "output_type": "execute_result"
    }
   ],
   "source": [
    "collection([1,1,1])"
   ]
  },
  {
   "cell_type": "code",
   "execution_count": 84,
   "metadata": {},
   "outputs": [
    {
     "data": {
      "text/plain": [
       "[1, 2, 3]"
      ]
     },
     "execution_count": 84,
     "metadata": {},
     "output_type": "execute_result"
    }
   ],
   "source": [
    "collection1([1,2,3])"
   ]
  },
  {
   "cell_type": "code",
   "execution_count": 85,
   "metadata": {},
   "outputs": [
    {
     "data": {
      "text/plain": [
       "[1, 1, 1]"
      ]
     },
     "execution_count": 85,
     "metadata": {},
     "output_type": "execute_result"
    }
   ],
   "source": [
    "collection1([1,1,1])"
   ]
  },
  {
   "cell_type": "markdown",
   "metadata": {},
   "source": [
    "#### Named only arguments ###"
   ]
  },
  {
   "cell_type": "code",
   "execution_count": 86,
   "metadata": {},
   "outputs": [],
   "source": [
    "words = [\"hello\", \"welcome\", \"Namaskar\", \"Ramram\"]"
   ]
  },
  {
   "cell_type": "code",
   "execution_count": 87,
   "metadata": {},
   "outputs": [
    {
     "data": {
      "text/plain": [
       "'welcome'"
      ]
     },
     "execution_count": 87,
     "metadata": {},
     "output_type": "execute_result"
    }
   ],
   "source": [
    "max(words)"
   ]
  },
  {
   "cell_type": "code",
   "execution_count": 88,
   "metadata": {},
   "outputs": [
    {
     "data": {
      "text/plain": [
       "'Namaskar'"
      ]
     },
     "execution_count": 88,
     "metadata": {},
     "output_type": "execute_result"
    }
   ],
   "source": [
    "max(words, key=len)"
   ]
  },
  {
   "cell_type": "code",
   "execution_count": 89,
   "metadata": {},
   "outputs": [
    {
     "ename": "TypeError",
     "evalue": "'>' not supported between instances of 'builtin_function_or_method' and 'list'",
     "output_type": "error",
     "traceback": [
      "\u001b[0;31m---------------------------------------------------------------------------\u001b[0m",
      "\u001b[0;31mTypeError\u001b[0m                                 Traceback (most recent call last)",
      "\u001b[0;32m<ipython-input-89-173597093508>\u001b[0m in \u001b[0;36m<module>\u001b[0;34m\u001b[0m\n\u001b[0;32m----> 1\u001b[0;31m \u001b[0mmax\u001b[0m\u001b[0;34m(\u001b[0m\u001b[0mwords\u001b[0m\u001b[0;34m,\u001b[0m \u001b[0mlen\u001b[0m\u001b[0;34m)\u001b[0m\u001b[0;34m\u001b[0m\u001b[0;34m\u001b[0m\u001b[0m\n\u001b[0m",
      "\u001b[0;31mTypeError\u001b[0m: '>' not supported between instances of 'builtin_function_or_method' and 'list'"
     ]
    }
   ],
   "source": [
    "max(words, len)"
   ]
  },
  {
   "cell_type": "code",
   "execution_count": 90,
   "metadata": {},
   "outputs": [],
   "source": [
    "def foo(x, y, *, name=\"bar\"):\n",
    "    pass"
   ]
  },
  {
   "cell_type": "code",
   "execution_count": 91,
   "metadata": {},
   "outputs": [],
   "source": [
    "foo(1,2)"
   ]
  },
  {
   "cell_type": "code",
   "execution_count": 92,
   "metadata": {},
   "outputs": [
    {
     "ename": "TypeError",
     "evalue": "foo() takes 2 positional arguments but 3 were given",
     "output_type": "error",
     "traceback": [
      "\u001b[0;31m---------------------------------------------------------------------------\u001b[0m",
      "\u001b[0;31mTypeError\u001b[0m                                 Traceback (most recent call last)",
      "\u001b[0;32m<ipython-input-92-53b9ab7c485d>\u001b[0m in \u001b[0;36m<module>\u001b[0;34m\u001b[0m\n\u001b[0;32m----> 1\u001b[0;31m \u001b[0mfoo\u001b[0m\u001b[0;34m(\u001b[0m\u001b[0;36m1\u001b[0m\u001b[0;34m,\u001b[0m\u001b[0;36m2\u001b[0m\u001b[0;34m,\u001b[0m\u001b[0;34m\"hello\"\u001b[0m\u001b[0;34m)\u001b[0m\u001b[0;34m\u001b[0m\u001b[0;34m\u001b[0m\u001b[0m\n\u001b[0m",
      "\u001b[0;31mTypeError\u001b[0m: foo() takes 2 positional arguments but 3 were given"
     ]
    }
   ],
   "source": [
    "foo(1,2,\"hello\")"
   ]
  },
  {
   "cell_type": "code",
   "execution_count": 93,
   "metadata": {},
   "outputs": [],
   "source": [
    "foo(3, 4, name=\"hello\")"
   ]
  },
  {
   "cell_type": "code",
   "execution_count": 94,
   "metadata": {},
   "outputs": [],
   "source": [
    "def bar(x,y,*,name):\n",
    "    pass"
   ]
  },
  {
   "cell_type": "code",
   "execution_count": 95,
   "metadata": {},
   "outputs": [
    {
     "ename": "TypeError",
     "evalue": "bar() missing 1 required keyword-only argument: 'name'",
     "output_type": "error",
     "traceback": [
      "\u001b[0;31m---------------------------------------------------------------------------\u001b[0m",
      "\u001b[0;31mTypeError\u001b[0m                                 Traceback (most recent call last)",
      "\u001b[0;32m<ipython-input-95-13e93fb11eef>\u001b[0m in \u001b[0;36m<module>\u001b[0;34m\u001b[0m\n\u001b[0;32m----> 1\u001b[0;31m \u001b[0mbar\u001b[0m\u001b[0;34m(\u001b[0m\u001b[0;36m1\u001b[0m\u001b[0;34m,\u001b[0m\u001b[0;36m2\u001b[0m\u001b[0;34m)\u001b[0m\u001b[0;34m\u001b[0m\u001b[0;34m\u001b[0m\u001b[0m\n\u001b[0m",
      "\u001b[0;31mTypeError\u001b[0m: bar() missing 1 required keyword-only argument: 'name'"
     ]
    }
   ],
   "source": [
    "bar(1,2)"
   ]
  },
  {
   "cell_type": "code",
   "execution_count": 96,
   "metadata": {},
   "outputs": [],
   "source": [
    "bar(1, 2, name=\"hello\")"
   ]
  },
  {
   "cell_type": "code",
   "execution_count": 97,
   "metadata": {},
   "outputs": [
    {
     "name": "stdout",
     "output_type": "stream",
     "text": [
      "The Zen of Python, by Tim Peters\n",
      "\n",
      "Beautiful is better than ugly.\n",
      "Explicit is better than implicit.\n",
      "Simple is better than complex.\n",
      "Complex is better than complicated.\n",
      "Flat is better than nested.\n",
      "Sparse is better than dense.\n",
      "Readability counts.\n",
      "Special cases aren't special enough to break the rules.\n",
      "Although practicality beats purity.\n",
      "Errors should never pass silently.\n",
      "Unless explicitly silenced.\n",
      "In the face of ambiguity, refuse the temptation to guess.\n",
      "There should be one-- and preferably only one --obvious way to do it.\n",
      "Although that way may not be obvious at first unless you're Dutch.\n",
      "Now is better than never.\n",
      "Although never is often better than *right* now.\n",
      "If the implementation is hard to explain, it's a bad idea.\n",
      "If the implementation is easy to explain, it may be a good idea.\n",
      "Namespaces are one honking great idea -- let's do more of those!\n"
     ]
    }
   ],
   "source": [
    "import this"
   ]
  },
  {
   "cell_type": "markdown",
   "metadata": {},
   "source": [
    "#### variable number of arguments ####"
   ]
  },
  {
   "cell_type": "code",
   "execution_count": 98,
   "metadata": {},
   "outputs": [],
   "source": [
    "import os.path"
   ]
  },
  {
   "cell_type": "code",
   "execution_count": 99,
   "metadata": {},
   "outputs": [
    {
     "data": {
      "text/plain": [
       "'/home/vikrant/training'"
      ]
     },
     "execution_count": 99,
     "metadata": {},
     "output_type": "execute_result"
    }
   ],
   "source": [
    "os.path.join(\"/\",\"home\",\"vikrant\",\"training\")"
   ]
  },
  {
   "cell_type": "code",
   "execution_count": 101,
   "metadata": {},
   "outputs": [
    {
     "data": {
      "text/plain": [
       "'/home/vikrant'"
      ]
     },
     "execution_count": 101,
     "metadata": {},
     "output_type": "execute_result"
    }
   ],
   "source": [
    "os.path.join(\"/\",\"home\",\"vikrant\")"
   ]
  },
  {
   "cell_type": "code",
   "execution_count": 102,
   "metadata": {},
   "outputs": [],
   "source": [
    "def myjoin(*args):\n",
    "    sep = \"_\"\n",
    "    return sep.join(args)"
   ]
  },
  {
   "cell_type": "code",
   "execution_count": 103,
   "metadata": {},
   "outputs": [
    {
     "data": {
      "text/plain": [
       "'a_b_c_d_e'"
      ]
     },
     "execution_count": 103,
     "metadata": {},
     "output_type": "execute_result"
    }
   ],
   "source": [
    "myjoin(\"a\",\"b\",\"c\",\"d\",\"e\")"
   ]
  },
  {
   "cell_type": "code",
   "execution_count": 104,
   "metadata": {},
   "outputs": [],
   "source": [
    "d = ['x','y','z','m']"
   ]
  },
  {
   "cell_type": "code",
   "execution_count": 105,
   "metadata": {},
   "outputs": [
    {
     "data": {
      "text/plain": [
       "'x_y_z_m'"
      ]
     },
     "execution_count": 105,
     "metadata": {},
     "output_type": "execute_result"
    }
   ],
   "source": [
    "myjoin(*d)"
   ]
  },
  {
   "cell_type": "code",
   "execution_count": 106,
   "metadata": {},
   "outputs": [],
   "source": [
    "def mysum(*args):\n",
    "    s = 0\n",
    "    for item in args:\n",
    "        s += item\n",
    "    return s"
   ]
  },
  {
   "cell_type": "code",
   "execution_count": 108,
   "metadata": {},
   "outputs": [
    {
     "data": {
      "text/plain": [
       "[(1, 'a'), (2, 'b'), (3, 'c'), (4, 'd')]"
      ]
     },
     "execution_count": 108,
     "metadata": {},
     "output_type": "execute_result"
    }
   ],
   "source": [
    "list(zip([1,2,3,4],['a','b','c','d']))"
   ]
  },
  {
   "cell_type": "code",
   "execution_count": 109,
   "metadata": {},
   "outputs": [
    {
     "data": {
      "text/plain": [
       "[[1, 1, 1], [2, 2, 2], [3, 3, 3]]"
      ]
     },
     "execution_count": 109,
     "metadata": {},
     "output_type": "execute_result"
    }
   ],
   "source": [
    "matrix"
   ]
  },
  {
   "cell_type": "code",
   "execution_count": 111,
   "metadata": {},
   "outputs": [
    {
     "data": {
      "text/plain": [
       "[(1, 'a', 'x'), (2, 'b', ['y'])]"
      ]
     },
     "execution_count": 111,
     "metadata": {},
     "output_type": "execute_result"
    }
   ],
   "source": [
    "list(zip([1,2],['a','b'],['x',['y']]))"
   ]
  },
  {
   "cell_type": "code",
   "execution_count": 112,
   "metadata": {},
   "outputs": [],
   "source": [
    "def transpose(data):\n",
    "    return list(zip(*data))"
   ]
  },
  {
   "cell_type": "code",
   "execution_count": 113,
   "metadata": {},
   "outputs": [
    {
     "data": {
      "text/plain": [
       "[(1, 2, 3), (1, 2, 3), (1, 2, 3)]"
      ]
     },
     "execution_count": 113,
     "metadata": {},
     "output_type": "execute_result"
    }
   ],
   "source": [
    "transpose(matrix)"
   ]
  },
  {
   "cell_type": "code",
   "execution_count": 114,
   "metadata": {},
   "outputs": [
    {
     "data": {
      "text/plain": [
       "[[1, 1, 1], [2, 2, 2], [3, 3, 3]]"
      ]
     },
     "execution_count": 114,
     "metadata": {},
     "output_type": "execute_result"
    }
   ],
   "source": [
    "matrix"
   ]
  },
  {
   "cell_type": "markdown",
   "metadata": {},
   "source": [
    "#### Variable number keyword argmuments ###"
   ]
  },
  {
   "cell_type": "code",
   "execution_count": 116,
   "metadata": {},
   "outputs": [],
   "source": [
    "def make_person(**kwargs):\n",
    "    return {\"Arcesium_\"+k:v for k, v in kwargs.items()}\n",
    "        "
   ]
  },
  {
   "cell_type": "code",
   "execution_count": 117,
   "metadata": {},
   "outputs": [
    {
     "data": {
      "text/plain": [
       "{'Arcesium_name': 'Praveen', 'Arcesium_surname': 'Nair'}"
      ]
     },
     "execution_count": 117,
     "metadata": {},
     "output_type": "execute_result"
    }
   ],
   "source": [
    "make_person(name=\"Praveen\", surname=\"Nair\")"
   ]
  },
  {
   "cell_type": "code",
   "execution_count": 119,
   "metadata": {},
   "outputs": [],
   "source": [
    "def foo(a, b, *args, **kwargs):\n",
    "    print(\"a,b \", a, b)\n",
    "    print(args)\n",
    "    print(kwargs)"
   ]
  },
  {
   "cell_type": "code",
   "execution_count": 120,
   "metadata": {},
   "outputs": [
    {
     "name": "stdout",
     "output_type": "stream",
     "text": [
      "a,b  1 2\n",
      "('x', 'y')\n",
      "{'name': 'xyz', 'greet': 'hello'}\n"
     ]
    }
   ],
   "source": [
    "foo(1, 2, 'x','y', name=\"xyz\", greet=\"hello\")"
   ]
  },
  {
   "cell_type": "markdown",
   "metadata": {},
   "source": [
    "### functions as arguments ###"
   ]
  },
  {
   "cell_type": "code",
   "execution_count": 121,
   "metadata": {},
   "outputs": [
    {
     "data": {
      "text/plain": [
       "'hello'"
      ]
     },
     "execution_count": 121,
     "metadata": {},
     "output_type": "execute_result"
    }
   ],
   "source": [
    "min(words, key=len)"
   ]
  },
  {
   "cell_type": "code",
   "execution_count": 122,
   "metadata": {},
   "outputs": [
    {
     "data": {
      "text/plain": [
       "['hello', 'Ramram', 'welcome', 'Namaskar']"
      ]
     },
     "execution_count": 122,
     "metadata": {},
     "output_type": "execute_result"
    }
   ],
   "source": [
    "sorted(words, key=len)"
   ]
  },
  {
   "cell_type": "code",
   "execution_count": 123,
   "metadata": {},
   "outputs": [],
   "source": [
    "records = [\n",
    "    (\"HCL\", 500.0, 10.0),\n",
    "    (\"INFY\", 800.0, 8.0),\n",
    "    (\"TATA\", 247, 3),\n",
    "    (\"MM\", 530, -5)\n",
    "]"
   ]
  },
  {
   "cell_type": "code",
   "execution_count": 124,
   "metadata": {},
   "outputs": [],
   "source": [
    "def getprice(r):\n",
    "    return r[1]"
   ]
  },
  {
   "cell_type": "code",
   "execution_count": 125,
   "metadata": {},
   "outputs": [
    {
     "data": {
      "text/plain": [
       "<function __main__.<lambda>(r)>"
      ]
     },
     "execution_count": 125,
     "metadata": {},
     "output_type": "execute_result"
    }
   ],
   "source": [
    "lambda r: r[1]"
   ]
  },
  {
   "cell_type": "code",
   "execution_count": 126,
   "metadata": {},
   "outputs": [
    {
     "data": {
      "text/plain": [
       "('INFY', 800.0, 8.0)"
      ]
     },
     "execution_count": 126,
     "metadata": {},
     "output_type": "execute_result"
    }
   ],
   "source": [
    "max(records, key=lambda r:r[1])"
   ]
  },
  {
   "cell_type": "code",
   "execution_count": 127,
   "metadata": {},
   "outputs": [
    {
     "data": {
      "text/plain": [
       "('HCL', 500.0, 10.0)"
      ]
     },
     "execution_count": 127,
     "metadata": {},
     "output_type": "execute_result"
    }
   ],
   "source": [
    "max(records, key=lambda r:r[2])"
   ]
  },
  {
   "cell_type": "code",
   "execution_count": 128,
   "metadata": {},
   "outputs": [],
   "source": [
    "def column(colnum):\n",
    "    return lambda r: r[colnum]"
   ]
  },
  {
   "cell_type": "code",
   "execution_count": 129,
   "metadata": {},
   "outputs": [
    {
     "data": {
      "text/plain": [
       "('INFY', 800.0, 8.0)"
      ]
     },
     "execution_count": 129,
     "metadata": {},
     "output_type": "execute_result"
    }
   ],
   "source": [
    "max(records, key=column(1))"
   ]
  },
  {
   "cell_type": "code",
   "execution_count": 130,
   "metadata": {},
   "outputs": [
    {
     "data": {
      "text/plain": [
       "('HCL', 500.0, 10.0)"
      ]
     },
     "execution_count": 130,
     "metadata": {},
     "output_type": "execute_result"
    }
   ],
   "source": [
    "max(records, key=column(2))"
   ]
  },
  {
   "cell_type": "markdown",
   "metadata": {},
   "source": [
    "**problem**\n",
    "\n",
    "- Write a function `repeat` which takes a function as first argument, initial value as second argument, and an integer as third argument. `repeat` must apply function to initial value n times.\n",
    "```\n",
    ">>> repeat(lambda x:2*x, 1, 5)\n",
    "32\n",
    "```\n",
    "- Write a function `compose` , which composes two functions.\n",
    "```\n",
    ">>> f = lambda x: 2*x\n",
    ">>> g = lambda x: x*x\n",
    ">>> fg = compose(f, g)\n",
    ">>> fg(2)   ## f(g(2))\n",
    "8\n",
    "```\n",
    "- Write a function `zip_with` which works exactly like zip, but it also takes first argument as combiner function.\n",
    "```\n",
    ">>> zip_with(lambda x:y: x+y, [1,2,3,4], [1,1,1,1])\n",
    "[2,3,4,5]\n",
    "```\n",
    "- write a function `fold` which reduces given list into single item using combiner function\n",
    "```\n",
    ">>> fold(lambda x,y: x+y, [1,1,1,1,1] , 0)\n",
    "5\n",
    "```\n",
    "- 8/1.3 + 8/5.7 + 8/9.11 ...... this sums to pi. Try to write a function which can sum this series.\n",
    "\n",
    "**bonus**\n",
    "- can you write `repeat` such that it resturns a new function which is equivalent to a function applying n times.\n",
    "```\n",
    ">>> f = repeat(lambda x:2*x, 5)\n",
    ">>> f(1)\n",
    "32\n",
    "```\n"
   ]
  },
  {
   "cell_type": "code",
   "execution_count": 131,
   "metadata": {},
   "outputs": [],
   "source": [
    "def make_poly():\n",
    "    return lambda x: x**x + x + 1"
   ]
  },
  {
   "cell_type": "code",
   "execution_count": 132,
   "metadata": {},
   "outputs": [],
   "source": [
    "p = make_poly()"
   ]
  },
  {
   "cell_type": "code",
   "execution_count": 133,
   "metadata": {},
   "outputs": [
    {
     "data": {
      "text/plain": [
       "31"
      ]
     },
     "execution_count": 133,
     "metadata": {},
     "output_type": "execute_result"
    }
   ],
   "source": [
    "p(3)"
   ]
  },
  {
   "cell_type": "code",
   "execution_count": 134,
   "metadata": {},
   "outputs": [
    {
     "data": {
      "text/plain": [
       "3"
      ]
     },
     "execution_count": 134,
     "metadata": {},
     "output_type": "execute_result"
    }
   ],
   "source": [
    "p(1)"
   ]
  },
  {
   "cell_type": "code",
   "execution_count": 135,
   "metadata": {},
   "outputs": [],
   "source": [
    "def make_poly(coeffs):\n",
    "    def poly(x):\n",
    "        s = 0\n",
    "        for i, c in enumerate(coeffs):\n",
    "            s = s + c*x**i\n",
    "        return s\n",
    "    \n",
    "    return poly"
   ]
  },
  {
   "cell_type": "code",
   "execution_count": 136,
   "metadata": {},
   "outputs": [],
   "source": [
    "P = make_poly([1, 1, 1])"
   ]
  },
  {
   "cell_type": "code",
   "execution_count": 137,
   "metadata": {},
   "outputs": [
    {
     "data": {
      "text/plain": [
       "3"
      ]
     },
     "execution_count": 137,
     "metadata": {},
     "output_type": "execute_result"
    }
   ],
   "source": [
    "P(1)"
   ]
  },
  {
   "cell_type": "code",
   "execution_count": 138,
   "metadata": {},
   "outputs": [
    {
     "data": {
      "text/plain": [
       "7"
      ]
     },
     "execution_count": 138,
     "metadata": {},
     "output_type": "execute_result"
    }
   ],
   "source": [
    "P(2)"
   ]
  },
  {
   "cell_type": "code",
   "execution_count": 139,
   "metadata": {},
   "outputs": [],
   "source": [
    "def make_logger(msgtype):\n",
    "    def logger(msg):\n",
    "        print(msgtype.upper(), \":\", msg)\n",
    "    return logger"
   ]
  },
  {
   "cell_type": "code",
   "execution_count": 141,
   "metadata": {},
   "outputs": [],
   "source": [
    "info = make_logger(\"info\")"
   ]
  },
  {
   "cell_type": "code",
   "execution_count": 142,
   "metadata": {},
   "outputs": [],
   "source": [
    "error = make_logger(\"error\")"
   ]
  },
  {
   "cell_type": "code",
   "execution_count": 143,
   "metadata": {},
   "outputs": [
    {
     "name": "stdout",
     "output_type": "stream",
     "text": [
      "INFO : THis i sjust info\n"
     ]
    }
   ],
   "source": [
    "info(\"THis i sjust info\")"
   ]
  },
  {
   "cell_type": "code",
   "execution_count": 144,
   "metadata": {},
   "outputs": [
    {
     "name": "stdout",
     "output_type": "stream",
     "text": [
      "ERROR : Error message....\n"
     ]
    }
   ],
   "source": [
    "error(\"Error message....\")"
   ]
  },
  {
   "cell_type": "code",
   "execution_count": 145,
   "metadata": {},
   "outputs": [],
   "source": [
    "def repeat(f, initial, n):\n",
    "    for i in range(n):\n",
    "        initial = f(initial)\n",
    "    return initial"
   ]
  },
  {
   "cell_type": "code",
   "execution_count": 146,
   "metadata": {},
   "outputs": [
    {
     "data": {
      "text/plain": [
       "32"
      ]
     },
     "execution_count": 146,
     "metadata": {},
     "output_type": "execute_result"
    }
   ],
   "source": [
    "repeat(lambda x:2*x, 1, 5)"
   ]
  },
  {
   "cell_type": "code",
   "execution_count": 147,
   "metadata": {},
   "outputs": [],
   "source": [
    "def compose(f, g):\n",
    "    def fg(x):\n",
    "        return f(g(x))\n",
    "    \n",
    "    return fg"
   ]
  },
  {
   "cell_type": "code",
   "execution_count": 148,
   "metadata": {},
   "outputs": [],
   "source": [
    "f = lambda x: 2*x\n",
    "g = lambda x: x**2\n",
    "fg = compose(f, g)"
   ]
  },
  {
   "cell_type": "code",
   "execution_count": 149,
   "metadata": {},
   "outputs": [
    {
     "data": {
      "text/plain": [
       "8"
      ]
     },
     "execution_count": 149,
     "metadata": {},
     "output_type": "execute_result"
    }
   ],
   "source": [
    "fg(2)"
   ]
  },
  {
   "cell_type": "code",
   "execution_count": 150,
   "metadata": {},
   "outputs": [],
   "source": [
    "def zip_with(f, v1, v2):\n",
    "    return [f(i,j) for i, j in zip(v1, v2)]"
   ]
  },
  {
   "cell_type": "code",
   "execution_count": 151,
   "metadata": {},
   "outputs": [],
   "source": [
    "x = [1,2,3,4]\n",
    "y = [1, 1, 1,1]"
   ]
  },
  {
   "cell_type": "code",
   "execution_count": 152,
   "metadata": {},
   "outputs": [
    {
     "name": "stdout",
     "output_type": "stream",
     "text": [
      "2\n",
      "3\n",
      "4\n",
      "5\n"
     ]
    }
   ],
   "source": [
    "for i, j in zip(x, y):\n",
    "    print(i+j)"
   ]
  },
  {
   "cell_type": "code",
   "execution_count": 153,
   "metadata": {},
   "outputs": [],
   "source": [
    "def zip_with(f, *args):\n",
    "    return [ f(*val) for val in zip(*args)]"
   ]
  },
  {
   "cell_type": "code",
   "execution_count": 154,
   "metadata": {},
   "outputs": [
    {
     "data": {
      "text/plain": [
       "[6, 6, 6, 6]"
      ]
     },
     "execution_count": 154,
     "metadata": {},
     "output_type": "execute_result"
    }
   ],
   "source": [
    "zip_with(lambda x, y, z: x+y+z, [1,1,1,1],[2,2,2,2],[3,3,3,3])"
   ]
  },
  {
   "cell_type": "code",
   "execution_count": 155,
   "metadata": {},
   "outputs": [],
   "source": [
    "def f(*args):\n",
    "    return sum(args)"
   ]
  },
  {
   "cell_type": "code",
   "execution_count": 156,
   "metadata": {},
   "outputs": [
    {
     "data": {
      "text/plain": [
       "[6, 6, 6, 6]"
      ]
     },
     "execution_count": 156,
     "metadata": {},
     "output_type": "execute_result"
    }
   ],
   "source": [
    "zip_with(f, [1,1,1,1],[2,2,2,2],[3,3,3,3])"
   ]
  },
  {
   "cell_type": "code",
   "execution_count": 157,
   "metadata": {},
   "outputs": [
    {
     "data": {
      "text/plain": [
       "[3, 3, 3, 3]"
      ]
     },
     "execution_count": 157,
     "metadata": {},
     "output_type": "execute_result"
    }
   ],
   "source": [
    "zip_with(f, [1,1,1,1],[2,2,2,2])"
   ]
  },
  {
   "cell_type": "code",
   "execution_count": 159,
   "metadata": {},
   "outputs": [],
   "source": [
    "def sumof(term, n):\n",
    "    s = 0\n",
    "    for i in range(1, n+1):\n",
    "        s += term(i)\n",
    "    return s"
   ]
  },
  {
   "cell_type": "code",
   "execution_count": 160,
   "metadata": {},
   "outputs": [],
   "source": [
    "def piseries(n):\n",
    "    return 8/((4*n-3)*(4*n-1))"
   ]
  },
  {
   "cell_type": "code",
   "execution_count": 161,
   "metadata": {},
   "outputs": [
    {
     "data": {
      "text/plain": [
       "3.141092653621038"
      ]
     },
     "execution_count": 161,
     "metadata": {},
     "output_type": "execute_result"
    }
   ],
   "source": [
    "sumof(piseries, 1000)"
   ]
  },
  {
   "cell_type": "code",
   "execution_count": 1,
   "metadata": {},
   "outputs": [],
   "source": [
    "def fold(f, seq, initial):\n",
    "    s = initial\n",
    "    for i in seq:\n",
    "        s = f(s, i)\n",
    "    return s"
   ]
  },
  {
   "cell_type": "code",
   "execution_count": 2,
   "metadata": {},
   "outputs": [],
   "source": [
    "import operator"
   ]
  },
  {
   "cell_type": "code",
   "execution_count": 3,
   "metadata": {},
   "outputs": [
    {
     "data": {
      "text/plain": [
       "5050"
      ]
     },
     "execution_count": 3,
     "metadata": {},
     "output_type": "execute_result"
    }
   ],
   "source": [
    "fold(operator.add, range(101), 0)"
   ]
  },
  {
   "cell_type": "code",
   "execution_count": 4,
   "metadata": {},
   "outputs": [
    {
     "data": {
      "text/plain": [
       "5050"
      ]
     },
     "execution_count": 4,
     "metadata": {},
     "output_type": "execute_result"
    }
   ],
   "source": [
    "sum(range(101))"
   ]
  },
  {
   "cell_type": "markdown",
   "metadata": {},
   "source": [
    "### Decorator ###"
   ]
  },
  {
   "cell_type": "code",
   "execution_count": 5,
   "metadata": {},
   "outputs": [],
   "source": [
    "def square(x):\n",
    "    return x*x"
   ]
  },
  {
   "cell_type": "code",
   "execution_count": 6,
   "metadata": {},
   "outputs": [],
   "source": [
    "def debug(f):\n",
    "    \n",
    "    def wrapper(*args):\n",
    "        print(\"Begin :\", f.__qualname__, args)\n",
    "        r = f(*args)\n",
    "        print(\"Returning :\", f.__qualname__,\"=>\", r)\n",
    "        \n",
    "    return wrapper"
   ]
  },
  {
   "cell_type": "code",
   "execution_count": 7,
   "metadata": {},
   "outputs": [
    {
     "ename": "NameError",
     "evalue": "name 'add' is not defined",
     "output_type": "error",
     "traceback": [
      "\u001b[0;31m---------------------------------------------------------------------------\u001b[0m",
      "\u001b[0;31mNameError\u001b[0m                                 Traceback (most recent call last)",
      "\u001b[0;32m<ipython-input-7-92beb40d1a86>\u001b[0m in \u001b[0;36m<module>\u001b[0;34m\u001b[0m\n\u001b[0;32m----> 1\u001b[0;31m \u001b[0madd\u001b[0m\u001b[0;34m\u001b[0m\u001b[0;34m\u001b[0m\u001b[0m\n\u001b[0m",
      "\u001b[0;31mNameError\u001b[0m: name 'add' is not defined"
     ]
    }
   ],
   "source": [
    "add"
   ]
  },
  {
   "cell_type": "code",
   "execution_count": 8,
   "metadata": {},
   "outputs": [],
   "source": [
    "def add(x, y):\n",
    "    return x+y"
   ]
  },
  {
   "cell_type": "code",
   "execution_count": 9,
   "metadata": {},
   "outputs": [
    {
     "data": {
      "text/plain": [
       "<function __main__.add(x, y)>"
      ]
     },
     "execution_count": 9,
     "metadata": {},
     "output_type": "execute_result"
    }
   ],
   "source": [
    "add"
   ]
  },
  {
   "cell_type": "code",
   "execution_count": 10,
   "metadata": {},
   "outputs": [],
   "source": [
    "aliasadd = add"
   ]
  },
  {
   "cell_type": "code",
   "execution_count": 11,
   "metadata": {},
   "outputs": [
    {
     "data": {
      "text/plain": [
       "<function __main__.add(x, y)>"
      ]
     },
     "execution_count": 11,
     "metadata": {},
     "output_type": "execute_result"
    }
   ],
   "source": [
    "aliasadd"
   ]
  },
  {
   "cell_type": "code",
   "execution_count": 12,
   "metadata": {},
   "outputs": [
    {
     "data": {
      "text/plain": [
       "7"
      ]
     },
     "execution_count": 12,
     "metadata": {},
     "output_type": "execute_result"
    }
   ],
   "source": [
    "add(3, 4)"
   ]
  },
  {
   "cell_type": "code",
   "execution_count": 13,
   "metadata": {},
   "outputs": [
    {
     "data": {
      "text/plain": [
       "7"
      ]
     },
     "execution_count": 13,
     "metadata": {},
     "output_type": "execute_result"
    }
   ],
   "source": [
    "aliasadd(3, 4)"
   ]
  },
  {
   "cell_type": "code",
   "execution_count": 14,
   "metadata": {},
   "outputs": [],
   "source": [
    "square = debug(square)"
   ]
  },
  {
   "cell_type": "code",
   "execution_count": 15,
   "metadata": {},
   "outputs": [
    {
     "name": "stdout",
     "output_type": "stream",
     "text": [
      "Begin : square (3,)\n",
      "Returning : square => 9\n"
     ]
    }
   ],
   "source": [
    "square(3)"
   ]
  },
  {
   "cell_type": "code",
   "execution_count": 16,
   "metadata": {},
   "outputs": [
    {
     "name": "stdout",
     "output_type": "stream",
     "text": [
      "Begin : square (3,)\n",
      "Returning : square => 9\n"
     ]
    }
   ],
   "source": [
    "r = square(3)"
   ]
  },
  {
   "cell_type": "code",
   "execution_count": 17,
   "metadata": {},
   "outputs": [
    {
     "name": "stdout",
     "output_type": "stream",
     "text": [
      "None\n"
     ]
    }
   ],
   "source": [
    "print(r)"
   ]
  },
  {
   "cell_type": "code",
   "execution_count": 18,
   "metadata": {},
   "outputs": [],
   "source": [
    "def square(x):\n",
    "    return x*x\n",
    "\n",
    "def debug(f):\n",
    "    \n",
    "    def wrapper(*args):\n",
    "        print(\"Begin :\", f.__qualname__, args)\n",
    "        r = f(*args)\n",
    "        print(\"Returning :\", f.__qualname__,\"=>\", r)\n",
    "        return r\n",
    "    \n",
    "    return wrapper"
   ]
  },
  {
   "cell_type": "code",
   "execution_count": 19,
   "metadata": {},
   "outputs": [],
   "source": [
    "square = debug(square)"
   ]
  },
  {
   "cell_type": "code",
   "execution_count": 20,
   "metadata": {},
   "outputs": [
    {
     "name": "stdout",
     "output_type": "stream",
     "text": [
      "Begin : square (5,)\n",
      "Returning : square => 25\n"
     ]
    },
    {
     "data": {
      "text/plain": [
       "25"
      ]
     },
     "execution_count": 20,
     "metadata": {},
     "output_type": "execute_result"
    }
   ],
   "source": [
    "square(5)"
   ]
  },
  {
   "cell_type": "code",
   "execution_count": 25,
   "metadata": {},
   "outputs": [],
   "source": [
    "@debug\n",
    "def sumofsquares(x, y):\n",
    "    return square(x) + square(y)"
   ]
  },
  {
   "cell_type": "code",
   "execution_count": 26,
   "metadata": {},
   "outputs": [
    {
     "name": "stdout",
     "output_type": "stream",
     "text": [
      "Begin : sumofsquares (3, 5)\n",
      "Begin : square (3,)\n",
      "Returning : square => 9\n",
      "Begin : square (5,)\n",
      "Returning : square => 25\n",
      "Returning : sumofsquares => 34\n"
     ]
    },
    {
     "data": {
      "text/plain": [
       "34"
      ]
     },
     "execution_count": 26,
     "metadata": {},
     "output_type": "execute_result"
    }
   ],
   "source": [
    "sumofsquares(3, 5)"
   ]
  },
  {
   "cell_type": "code",
   "execution_count": 27,
   "metadata": {},
   "outputs": [],
   "source": [
    "def cube(x):\n",
    "    \"\"\"\n",
    "    returns x*x*x\n",
    "    \"\"\"\n",
    "    return x**3"
   ]
  },
  {
   "cell_type": "code",
   "execution_count": 28,
   "metadata": {},
   "outputs": [
    {
     "name": "stdout",
     "output_type": "stream",
     "text": [
      "Help on function cube in module __main__:\n",
      "\n",
      "cube(x)\n",
      "    returns x*x*x\n",
      "\n"
     ]
    }
   ],
   "source": [
    "help(cube)"
   ]
  },
  {
   "cell_type": "code",
   "execution_count": 30,
   "metadata": {},
   "outputs": [],
   "source": [
    "@debug\n",
    "def area(radius):\n",
    "    \"\"\"\n",
    "    computes area of a circle\n",
    "    \"\"\"\n",
    "    return 3.14*radius**2"
   ]
  },
  {
   "cell_type": "code",
   "execution_count": 31,
   "metadata": {},
   "outputs": [
    {
     "name": "stdout",
     "output_type": "stream",
     "text": [
      "Begin : area (4,)\n",
      "Returning : area => 50.24\n"
     ]
    },
    {
     "data": {
      "text/plain": [
       "50.24"
      ]
     },
     "execution_count": 31,
     "metadata": {},
     "output_type": "execute_result"
    }
   ],
   "source": [
    "area(4)"
   ]
  },
  {
   "cell_type": "code",
   "execution_count": 32,
   "metadata": {},
   "outputs": [
    {
     "name": "stdout",
     "output_type": "stream",
     "text": [
      "Help on function wrapper in module __main__:\n",
      "\n",
      "wrapper(*args)\n",
      "\n"
     ]
    }
   ],
   "source": [
    "help(area)"
   ]
  },
  {
   "cell_type": "code",
   "execution_count": 33,
   "metadata": {},
   "outputs": [
    {
     "data": {
      "text/plain": [
       "'\\n    returns x*x*x\\n    '"
      ]
     },
     "execution_count": 33,
     "metadata": {},
     "output_type": "execute_result"
    }
   ],
   "source": [
    "cube.__doc__"
   ]
  },
  {
   "cell_type": "code",
   "execution_count": 34,
   "metadata": {},
   "outputs": [],
   "source": [
    "from functools import wraps"
   ]
  },
  {
   "cell_type": "code",
   "execution_count": 35,
   "metadata": {},
   "outputs": [],
   "source": [
    "\n",
    "def debug(f):\n",
    "    \n",
    "    @wraps(f)\n",
    "    def wrapper(*args):\n",
    "        print(\"Begin :\", f.__qualname__, args)\n",
    "        r = f(*args)\n",
    "        print(\"Returning :\", f.__qualname__,\"=>\", r)\n",
    "        return r\n",
    "    \n",
    "    return wrapper"
   ]
  },
  {
   "cell_type": "code",
   "execution_count": 36,
   "metadata": {},
   "outputs": [],
   "source": [
    "@debug\n",
    "def area(radius):\n",
    "    \"\"\"\n",
    "    computes area of a circle\n",
    "    \"\"\"\n",
    "    return 3.14*radius**2"
   ]
  },
  {
   "cell_type": "code",
   "execution_count": 37,
   "metadata": {},
   "outputs": [
    {
     "name": "stdout",
     "output_type": "stream",
     "text": [
      "Help on function area in module __main__:\n",
      "\n",
      "area(radius)\n",
      "    computes area of a circle\n",
      "\n"
     ]
    }
   ],
   "source": [
    "help(area)"
   ]
  },
  {
   "cell_type": "code",
   "execution_count": 38,
   "metadata": {},
   "outputs": [
    {
     "data": {
      "text/plain": [
       "'\\n    computes area of a circle\\n    '"
      ]
     },
     "execution_count": 38,
     "metadata": {},
     "output_type": "execute_result"
    }
   ],
   "source": [
    "area.__doc__"
   ]
  },
  {
   "cell_type": "code",
   "execution_count": 39,
   "metadata": {},
   "outputs": [
    {
     "data": {
      "text/plain": [
       "{}"
      ]
     },
     "execution_count": 39,
     "metadata": {},
     "output_type": "execute_result"
    }
   ],
   "source": [
    "area.__annotations__"
   ]
  },
  {
   "cell_type": "code",
   "execution_count": 40,
   "metadata": {},
   "outputs": [
    {
     "data": {
      "text/plain": [
       "'area'"
      ]
     },
     "execution_count": 40,
     "metadata": {},
     "output_type": "execute_result"
    }
   ],
   "source": [
    "area.__qualname__"
   ]
  },
  {
   "cell_type": "code",
   "execution_count": 41,
   "metadata": {},
   "outputs": [
    {
     "data": {
      "text/plain": [
       "'\\n    computes area of a circle\\n    '"
      ]
     },
     "execution_count": 41,
     "metadata": {},
     "output_type": "execute_result"
    }
   ],
   "source": [
    "area.__doc__"
   ]
  },
  {
   "cell_type": "code",
   "execution_count": 42,
   "metadata": {},
   "outputs": [],
   "source": [
    "area.__defaults__"
   ]
  },
  {
   "cell_type": "code",
   "execution_count": 43,
   "metadata": {},
   "outputs": [],
   "source": [
    "def f(x=10):\n",
    "    pass"
   ]
  },
  {
   "cell_type": "code",
   "execution_count": 44,
   "metadata": {},
   "outputs": [
    {
     "data": {
      "text/plain": [
       "(10,)"
      ]
     },
     "execution_count": 44,
     "metadata": {},
     "output_type": "execute_result"
    }
   ],
   "source": [
    "f.__defaults__"
   ]
  },
  {
   "cell_type": "markdown",
   "metadata": {},
   "source": [
    "**problems**\n",
    "\n",
    "- Write a decorator `deprecated` which prints deprecation message when the function is called.\n",
    "- Write a decorator `with_retries` which rtries the decorated function 5 times. After five tries it prints message of \"Giving up!\" and quits.\n",
    "- Write a decorator `timeit` which times execution of decorated function"
   ]
  },
  {
   "cell_type": "code",
   "execution_count": 45,
   "metadata": {},
   "outputs": [],
   "source": [
    "import requests"
   ]
  },
  {
   "cell_type": "code",
   "execution_count": 46,
   "metadata": {},
   "outputs": [
    {
     "name": "stdout",
     "output_type": "stream",
     "text": [
      "Requirement already satisfied: requests in /home/vikrant/anaconda3/lib/python3.7/site-packages (2.22.0)\r\n",
      "Requirement already satisfied: idna<2.9,>=2.5 in /home/vikrant/anaconda3/lib/python3.7/site-packages (from requests) (2.8)\r\n",
      "Requirement already satisfied: certifi>=2017.4.17 in /home/vikrant/anaconda3/lib/python3.7/site-packages (from requests) (2019.6.16)\r\n",
      "Requirement already satisfied: urllib3!=1.25.0,!=1.25.1,<1.26,>=1.21.1 in /home/vikrant/anaconda3/lib/python3.7/site-packages (from requests) (1.24.2)\r\n",
      "Requirement already satisfied: chardet<3.1.0,>=3.0.2 in /home/vikrant/anaconda3/lib/python3.7/site-packages (from requests) (3.0.4)\r\n"
     ]
    }
   ],
   "source": [
    "!pip install requests"
   ]
  },
  {
   "cell_type": "code",
   "execution_count": 51,
   "metadata": {},
   "outputs": [
    {
     "name": "stdout",
     "output_type": "stream",
     "text": [
      "Failed to downlod!\n"
     ]
    }
   ],
   "source": [
    "try:\n",
    "    requests.get(\"http://nosuchsite.sdjksjlk/lsdsa/\")\n",
    "except Exception as e:\n",
    "    print(\"Failed to downlod!\")"
   ]
  },
  {
   "cell_type": "code",
   "execution_count": 48,
   "metadata": {},
   "outputs": [],
   "source": [
    "import time"
   ]
  },
  {
   "cell_type": "code",
   "execution_count": 49,
   "metadata": {},
   "outputs": [
    {
     "data": {
      "text/plain": [
       "1569407560.7970266"
      ]
     },
     "execution_count": 49,
     "metadata": {},
     "output_type": "execute_result"
    }
   ],
   "source": [
    "time.time()"
   ]
  },
  {
   "cell_type": "code",
   "execution_count": 52,
   "metadata": {},
   "outputs": [],
   "source": [
    "def deprecated(f):\n",
    "    \n",
    "    @wraps(f)\n",
    "    def wrapper(*args, **kwargs):\n",
    "        print(\"Function {funcname} is deprecated\".format(funcname=f.__qualname__))\n",
    "        print(\"You should instead use ...foo()\")\n",
    "        return f(*args, **kwargs)\n",
    "    \n",
    "    return wrapper"
   ]
  },
  {
   "cell_type": "code",
   "execution_count": 53,
   "metadata": {},
   "outputs": [],
   "source": [
    "@deprecated\n",
    "def hello():\n",
    "    print(\"hello world!\")"
   ]
  },
  {
   "cell_type": "code",
   "execution_count": 54,
   "metadata": {},
   "outputs": [
    {
     "name": "stdout",
     "output_type": "stream",
     "text": [
      "Function hello is deprecated\n",
      "You should instead use ...foo()\n",
      "hello world!\n"
     ]
    }
   ],
   "source": [
    "hello()"
   ]
  },
  {
   "cell_type": "code",
   "execution_count": 60,
   "metadata": {},
   "outputs": [],
   "source": [
    "def with_retries(f):\n",
    "    \n",
    "    @wraps(f)\n",
    "    def wrapper(*args, **kwargs):\n",
    "        for i in range(5):\n",
    "            try:\n",
    "                return f(*args, **kwargs)\n",
    "            except Exception as e:\n",
    "                print(\"Retrying ..\", f.__qualname__, i, e)\n",
    "            print(\"Giving up!\")\n",
    "    return wrapper"
   ]
  },
  {
   "cell_type": "code",
   "execution_count": 61,
   "metadata": {},
   "outputs": [],
   "source": [
    "@with_retries\n",
    "def wget(url):\n",
    "    resp = requests.get(url)\n",
    "    return resp.text"
   ]
  },
  {
   "cell_type": "code",
   "execution_count": 62,
   "metadata": {},
   "outputs": [
    {
     "name": "stdout",
     "output_type": "stream",
     "text": [
      "Retrying .. wget 0 HTTPConnectionPool(host='nosuchlkjsdalks.ksajdkjsa', port=80): Max retries exceeded with url: /sdsd (Caused by NewConnectionError('<urllib3.connection.HTTPConnection object at 0x7f2ddd479160>: Failed to establish a new connection: [Errno -2] Name or service not known'))\n",
      "Giving up!\n",
      "Retrying .. wget 1 HTTPConnectionPool(host='nosuchlkjsdalks.ksajdkjsa', port=80): Max retries exceeded with url: /sdsd (Caused by NewConnectionError('<urllib3.connection.HTTPConnection object at 0x7f2ddd479240>: Failed to establish a new connection: [Errno -2] Name or service not known'))\n",
      "Giving up!\n",
      "Retrying .. wget 2 HTTPConnectionPool(host='nosuchlkjsdalks.ksajdkjsa', port=80): Max retries exceeded with url: /sdsd (Caused by NewConnectionError('<urllib3.connection.HTTPConnection object at 0x7f2ddd4792b0>: Failed to establish a new connection: [Errno -2] Name or service not known'))\n",
      "Giving up!\n",
      "Retrying .. wget 3 HTTPConnectionPool(host='nosuchlkjsdalks.ksajdkjsa', port=80): Max retries exceeded with url: /sdsd (Caused by NewConnectionError('<urllib3.connection.HTTPConnection object at 0x7f2ddd479470>: Failed to establish a new connection: [Errno -2] Name or service not known'))\n",
      "Giving up!\n",
      "Retrying .. wget 4 HTTPConnectionPool(host='nosuchlkjsdalks.ksajdkjsa', port=80): Max retries exceeded with url: /sdsd (Caused by NewConnectionError('<urllib3.connection.HTTPConnection object at 0x7f2ddd479390>: Failed to establish a new connection: [Errno -2] Name or service not known'))\n",
      "Giving up!\n"
     ]
    }
   ],
   "source": [
    "wget(\"http://nosuchlkjsdalks.ksajdkjsa/sdsd\")"
   ]
  },
  {
   "cell_type": "code",
   "execution_count": 66,
   "metadata": {},
   "outputs": [
    {
     "name": "stdout",
     "output_type": "stream",
     "text": [
      "Overwriting trace.py\n"
     ]
    }
   ],
   "source": [
    "%%file trace.py\n",
    "import os\n",
    "from functools import wraps\n",
    "\n",
    "level = 0\n",
    "\n",
    "def log(*args):\n",
    "    if os.getenv(\"DEBUG\") == \"true\":\n",
    "        print(*args)\n",
    "        \n",
    "def trace(f):\n",
    "    \n",
    "    @wraps(f)\n",
    "    def g(*args):\n",
    "        global level\n",
    "        log(\"| \"*level + \"|--\" + f.__qualname__, args )\n",
    "        level += 1\n",
    "        value = f(*args)\n",
    "        level -=1\n",
    "        log(\"| \"*level + \"|--\" + \"return\" , value)\n",
    "        return value\n",
    "    return g"
   ]
  },
  {
   "cell_type": "code",
   "execution_count": 71,
   "metadata": {},
   "outputs": [],
   "source": [
    "import trace"
   ]
  },
  {
   "cell_type": "code",
   "execution_count": 74,
   "metadata": {},
   "outputs": [],
   "source": [
    "@trace.trace\n",
    "def square(x):\n",
    "    return x*x\n",
    "\n",
    "@trace.trace\n",
    "def somofsquares(x,y):\n",
    "    return square(x) + square(y)"
   ]
  },
  {
   "cell_type": "code",
   "execution_count": 75,
   "metadata": {},
   "outputs": [
    {
     "data": {
      "text/plain": [
       "61"
      ]
     },
     "execution_count": 75,
     "metadata": {},
     "output_type": "execute_result"
    }
   ],
   "source": [
    "somofsquares(5, 6)"
   ]
  },
  {
   "cell_type": "code",
   "execution_count": 76,
   "metadata": {},
   "outputs": [],
   "source": [
    "import os"
   ]
  },
  {
   "cell_type": "code",
   "execution_count": 77,
   "metadata": {},
   "outputs": [
    {
     "name": "stdout",
     "output_type": "stream",
     "text": [
      "Writing ssq.py\n"
     ]
    }
   ],
   "source": [
    "%%file ssq.py\n",
    "from trace import trace\n",
    "import sys\n",
    "\n",
    "@trace\n",
    "def square(x):\n",
    "    return x*x\n",
    "\n",
    "@trace\n",
    "def sumofsquares(x,y):\n",
    "    return square(x) + square(y)\n",
    "\n",
    "\n",
    "if __name__ == \"__main__\":\n",
    "    sumofsquares(int(sys.argv[1]), int(sys.argv[2]))"
   ]
  },
  {
   "cell_type": "code",
   "execution_count": 78,
   "metadata": {},
   "outputs": [
    {
     "name": "stdout",
     "output_type": "stream",
     "text": [
      "|--sumofsquares (5, 6)\r\n",
      "| |--square (5,)\r\n",
      "| |--return 25\r\n",
      "| |--square (6,)\r\n",
      "| |--return 36\r\n",
      "|--return 61\r\n"
     ]
    }
   ],
   "source": [
    "!DEBUG=true python ssq.py 5 6"
   ]
  },
  {
   "cell_type": "code",
   "execution_count": 79,
   "metadata": {},
   "outputs": [
    {
     "name": "stdout",
     "output_type": "stream",
     "text": [
      "Writing fib.py\n"
     ]
    }
   ],
   "source": [
    "%%file fib.py\n",
    "import sys\n",
    "from trace import trace\n",
    "\n",
    "@trace\n",
    "def fib(n):\n",
    "    if n in [1,2]:\n",
    "        return 1\n",
    "    else:\n",
    "        return fib(n-1) + fib(n-2)\n",
    "    \n",
    "if __name__ == \"__main__\":\n",
    "    print(fib(int(sys.argv[1])))"
   ]
  },
  {
   "cell_type": "code",
   "execution_count": 82,
   "metadata": {},
   "outputs": [
    {
     "name": "stdout",
     "output_type": "stream",
     "text": [
      "|--fib (8,)\r\n",
      "| |--fib (7,)\r\n",
      "| | |--fib (6,)\r\n",
      "| | | |--fib (5,)\r\n",
      "| | | | |--fib (4,)\r\n",
      "| | | | | |--fib (3,)\r\n",
      "| | | | | | |--fib (2,)\r\n",
      "| | | | | | |--return 1\r\n",
      "| | | | | | |--fib (1,)\r\n",
      "| | | | | | |--return 1\r\n",
      "| | | | | |--return 2\r\n",
      "| | | | | |--fib (2,)\r\n",
      "| | | | | |--return 1\r\n",
      "| | | | |--return 3\r\n",
      "| | | | |--fib (3,)\r\n",
      "| | | | | |--fib (2,)\r\n",
      "| | | | | |--return 1\r\n",
      "| | | | | |--fib (1,)\r\n",
      "| | | | | |--return 1\r\n",
      "| | | | |--return 2\r\n",
      "| | | |--return 5\r\n",
      "| | | |--fib (4,)\r\n",
      "| | | | |--fib (3,)\r\n",
      "| | | | | |--fib (2,)\r\n",
      "| | | | | |--return 1\r\n",
      "| | | | | |--fib (1,)\r\n",
      "| | | | | |--return 1\r\n",
      "| | | | |--return 2\r\n",
      "| | | | |--fib (2,)\r\n",
      "| | | | |--return 1\r\n",
      "| | | |--return 3\r\n",
      "| | |--return 8\r\n",
      "| | |--fib (5,)\r\n",
      "| | | |--fib (4,)\r\n",
      "| | | | |--fib (3,)\r\n",
      "| | | | | |--fib (2,)\r\n",
      "| | | | | |--return 1\r\n",
      "| | | | | |--fib (1,)\r\n",
      "| | | | | |--return 1\r\n",
      "| | | | |--return 2\r\n",
      "| | | | |--fib (2,)\r\n",
      "| | | | |--return 1\r\n",
      "| | | |--return 3\r\n",
      "| | | |--fib (3,)\r\n",
      "| | | | |--fib (2,)\r\n",
      "| | | | |--return 1\r\n",
      "| | | | |--fib (1,)\r\n",
      "| | | | |--return 1\r\n",
      "| | | |--return 2\r\n",
      "| | |--return 5\r\n",
      "| |--return 13\r\n",
      "| |--fib (6,)\r\n",
      "| | |--fib (5,)\r\n",
      "| | | |--fib (4,)\r\n",
      "| | | | |--fib (3,)\r\n",
      "| | | | | |--fib (2,)\r\n",
      "| | | | | |--return 1\r\n",
      "| | | | | |--fib (1,)\r\n",
      "| | | | | |--return 1\r\n",
      "| | | | |--return 2\r\n",
      "| | | | |--fib (2,)\r\n",
      "| | | | |--return 1\r\n",
      "| | | |--return 3\r\n",
      "| | | |--fib (3,)\r\n",
      "| | | | |--fib (2,)\r\n",
      "| | | | |--return 1\r\n",
      "| | | | |--fib (1,)\r\n",
      "| | | | |--return 1\r\n",
      "| | | |--return 2\r\n",
      "| | |--return 5\r\n",
      "| | |--fib (4,)\r\n",
      "| | | |--fib (3,)\r\n",
      "| | | | |--fib (2,)\r\n",
      "| | | | |--return 1\r\n",
      "| | | | |--fib (1,)\r\n",
      "| | | | |--return 1\r\n",
      "| | | |--return 2\r\n",
      "| | | |--fib (2,)\r\n",
      "| | | |--return 1\r\n",
      "| | |--return 3\r\n",
      "| |--return 8\r\n",
      "|--return 21\r\n",
      "21\r\n"
     ]
    }
   ],
   "source": [
    "!DEBUG=true python fib.py 8"
   ]
  },
  {
   "cell_type": "code",
   "execution_count": 83,
   "metadata": {},
   "outputs": [
    {
     "name": "stdout",
     "output_type": "stream",
     "text": [
      "Writing memoize.py\n"
     ]
    }
   ],
   "source": [
    "%%file memoize.py\n",
    "from functools import wraps\n",
    "\n",
    "def memoize(f):\n",
    "    cache = {}\n",
    "    \n",
    "    @wraps(f)\n",
    "    def g(*args):\n",
    "        if args not in cache:\n",
    "            cache[args] = f(*args)\n",
    "        return cache[args]\n",
    "    return g"
   ]
  },
  {
   "cell_type": "code",
   "execution_count": 84,
   "metadata": {},
   "outputs": [
    {
     "name": "stdout",
     "output_type": "stream",
     "text": [
      "Writing fib1.py\n"
     ]
    }
   ],
   "source": [
    "%%file fib1.py\n",
    "import sys\n",
    "from trace import trace\n",
    "from memoize import memoize\n",
    "\n",
    "@memoize\n",
    "@trace\n",
    "def fib(n):\n",
    "    if n in [1,2]:\n",
    "        return 1\n",
    "    else:\n",
    "        return fib(n-1) + fib(n-2)\n",
    "    \n",
    "if __name__ == \"__main__\":\n",
    "    print(fib(int(sys.argv[1])))"
   ]
  },
  {
   "cell_type": "code",
   "execution_count": 86,
   "metadata": {},
   "outputs": [
    {
     "name": "stdout",
     "output_type": "stream",
     "text": [
      "|--fib (30,)\r\n",
      "| |--fib (29,)\r\n",
      "| | |--fib (28,)\r\n",
      "| | | |--fib (27,)\r\n",
      "| | | | |--fib (26,)\r\n",
      "| | | | | |--fib (25,)\r\n",
      "| | | | | | |--fib (24,)\r\n",
      "| | | | | | | |--fib (23,)\r\n",
      "| | | | | | | | |--fib (22,)\r\n",
      "| | | | | | | | | |--fib (21,)\r\n",
      "| | | | | | | | | | |--fib (20,)\r\n",
      "| | | | | | | | | | | |--fib (19,)\r\n",
      "| | | | | | | | | | | | |--fib (18,)\r\n",
      "| | | | | | | | | | | | | |--fib (17,)\r\n",
      "| | | | | | | | | | | | | | |--fib (16,)\r\n",
      "| | | | | | | | | | | | | | | |--fib (15,)\r\n",
      "| | | | | | | | | | | | | | | | |--fib (14,)\r\n",
      "| | | | | | | | | | | | | | | | | |--fib (13,)\r\n",
      "| | | | | | | | | | | | | | | | | | |--fib (12,)\r\n",
      "| | | | | | | | | | | | | | | | | | | |--fib (11,)\r\n",
      "| | | | | | | | | | | | | | | | | | | | |--fib (10,)\r\n",
      "| | | | | | | | | | | | | | | | | | | | | |--fib (9,)\r\n",
      "| | | | | | | | | | | | | | | | | | | | | | |--fib (8,)\r\n",
      "| | | | | | | | | | | | | | | | | | | | | | | |--fib (7,)\r\n",
      "| | | | | | | | | | | | | | | | | | | | | | | | |--fib (6,)\r\n",
      "| | | | | | | | | | | | | | | | | | | | | | | | | |--fib (5,)\r\n",
      "| | | | | | | | | | | | | | | | | | | | | | | | | | |--fib (4,)\r\n",
      "| | | | | | | | | | | | | | | | | | | | | | | | | | | |--fib (3,)\r\n",
      "| | | | | | | | | | | | | | | | | | | | | | | | | | | | |--fib (2,)\r\n",
      "| | | | | | | | | | | | | | | | | | | | | | | | | | | | |--return 1\r\n",
      "| | | | | | | | | | | | | | | | | | | | | | | | | | | | |--fib (1,)\r\n",
      "| | | | | | | | | | | | | | | | | | | | | | | | | | | | |--return 1\r\n",
      "| | | | | | | | | | | | | | | | | | | | | | | | | | | |--return 2\r\n",
      "| | | | | | | | | | | | | | | | | | | | | | | | | | |--return 3\r\n",
      "| | | | | | | | | | | | | | | | | | | | | | | | | |--return 5\r\n",
      "| | | | | | | | | | | | | | | | | | | | | | | | |--return 8\r\n",
      "| | | | | | | | | | | | | | | | | | | | | | | |--return 13\r\n",
      "| | | | | | | | | | | | | | | | | | | | | | |--return 21\r\n",
      "| | | | | | | | | | | | | | | | | | | | | |--return 34\r\n",
      "| | | | | | | | | | | | | | | | | | | | |--return 55\r\n",
      "| | | | | | | | | | | | | | | | | | | |--return 89\r\n",
      "| | | | | | | | | | | | | | | | | | |--return 144\r\n",
      "| | | | | | | | | | | | | | | | | |--return 233\r\n",
      "| | | | | | | | | | | | | | | | |--return 377\r\n",
      "| | | | | | | | | | | | | | | |--return 610\r\n",
      "| | | | | | | | | | | | | | |--return 987\r\n",
      "| | | | | | | | | | | | | |--return 1597\r\n",
      "| | | | | | | | | | | | |--return 2584\r\n",
      "| | | | | | | | | | | |--return 4181\r\n",
      "| | | | | | | | | | |--return 6765\r\n",
      "| | | | | | | | | |--return 10946\r\n",
      "| | | | | | | | |--return 17711\r\n",
      "| | | | | | | |--return 28657\r\n",
      "| | | | | | |--return 46368\r\n",
      "| | | | | |--return 75025\r\n",
      "| | | | |--return 121393\r\n",
      "| | | |--return 196418\r\n",
      "| | |--return 317811\r\n",
      "| |--return 514229\r\n",
      "|--return 832040\r\n",
      "832040\r\n"
     ]
    }
   ],
   "source": [
    "!DEBUG=true python fib1.py 30"
   ]
  },
  {
   "cell_type": "code",
   "execution_count": 88,
   "metadata": {},
   "outputs": [],
   "source": [
    "os.environ['DEBUG']=\"true\""
   ]
  },
  {
   "cell_type": "markdown",
   "metadata": {},
   "source": [
    "### decorators with parameters ###\n",
    "\n",
    "Write a decorator `with_retries` that takes two parameters , `retries`, `delay`\n",
    "\n",
    "```\n",
    "@debug\n",
    "def foo():\n",
    "    pass\n",
    "\n",
    "@with_retries(retries=5, delay=5)\n",
    "def wget(url):\n",
    "    pass\n",
    "\n",
    "````"
   ]
  },
  {
   "cell_type": "code",
   "execution_count": 89,
   "metadata": {},
   "outputs": [],
   "source": [
    "def f():\n",
    "    pass"
   ]
  },
  {
   "cell_type": "code",
   "execution_count": 90,
   "metadata": {},
   "outputs": [
    {
     "data": {
      "text/plain": [
       "<function __main__.f()>"
      ]
     },
     "execution_count": 90,
     "metadata": {},
     "output_type": "execute_result"
    }
   ],
   "source": [
    "\n",
    "f"
   ]
  },
  {
   "cell_type": "code",
   "execution_count": 91,
   "metadata": {},
   "outputs": [],
   "source": [
    "f()"
   ]
  },
  {
   "cell_type": "code",
   "execution_count": 92,
   "metadata": {},
   "outputs": [],
   "source": [
    "from functools import wraps\n",
    "\n",
    "def with_retries(retries=5, delay=2):\n",
    "    \n",
    "    def decor(f):\n",
    "        \n",
    "        @wraps(f)\n",
    "        def wrapper(*args, **kwargs):\n",
    "            for i in range(retries):\n",
    "                try:\n",
    "                    return f(*args, **kwargs)\n",
    "                except Exception as e:\n",
    "                    time.sleep(delay)\n",
    "                    print(\"Retrying {}, attempt \".format(f.__qualname__), i+1)\n",
    "        return wrapper\n",
    "    \n",
    "    return decor"
   ]
  },
  {
   "cell_type": "code",
   "execution_count": 93,
   "metadata": {},
   "outputs": [],
   "source": [
    "@with_retries(retries=3, delay=2)\n",
    "def wget(url):\n",
    "    resp = requests.get(url)\n",
    "    return resp.text"
   ]
  },
  {
   "cell_type": "code",
   "execution_count": 94,
   "metadata": {},
   "outputs": [
    {
     "name": "stdout",
     "output_type": "stream",
     "text": [
      "Retrying wget, attempt  1\n",
      "Retrying wget, attempt  2\n",
      "Retrying wget, attempt  3\n"
     ]
    }
   ],
   "source": [
    "wget(\"htpp://sdsdsdsa.dasddsad.ghgfyrt/dfdf\")"
   ]
  },
  {
   "cell_type": "code",
   "execution_count": 95,
   "metadata": {},
   "outputs": [],
   "source": [
    "from functools import partial"
   ]
  },
  {
   "cell_type": "code",
   "execution_count": 96,
   "metadata": {},
   "outputs": [],
   "source": [
    "def add(x, y, z):\n",
    "    return x+y+z"
   ]
  },
  {
   "cell_type": "code",
   "execution_count": 97,
   "metadata": {},
   "outputs": [],
   "source": [
    "add2 = partial(add, x=5)"
   ]
  },
  {
   "cell_type": "code",
   "execution_count": 99,
   "metadata": {},
   "outputs": [
    {
     "data": {
      "text/plain": [
       "10"
      ]
     },
     "execution_count": 99,
     "metadata": {},
     "output_type": "execute_result"
    }
   ],
   "source": [
    "add2(y=2, z=3)"
   ]
  },
  {
   "cell_type": "code",
   "execution_count": 100,
   "metadata": {},
   "outputs": [],
   "source": [
    "from functools import wraps\n",
    "\n",
    "def with_retries(f = None, retries=5, delay=2):\n",
    "    \n",
    "        if f==None:\n",
    "            return partial(with_retries, retries=retries, delay=delay)\n",
    "        \n",
    "        @wraps(f)\n",
    "        def wrapper(*args, **kwargs):\n",
    "            for i in range(retries):\n",
    "                try:\n",
    "                    return f(*args, **kwargs)\n",
    "                except Exception as e:\n",
    "                    time.sleep(delay)\n",
    "                    print(\"Retrying {}, attempt \".format(f.__qualname__), i+1)\n",
    "        return wrapper\n",
    "    \n",
    "    "
   ]
  },
  {
   "cell_type": "code",
   "execution_count": 101,
   "metadata": {},
   "outputs": [],
   "source": [
    "@with_retries(retries=4, delay=1)\n",
    "def downlod(url):\n",
    "    raise Exception(\"Can't download\")"
   ]
  },
  {
   "cell_type": "code",
   "execution_count": 102,
   "metadata": {},
   "outputs": [
    {
     "name": "stdout",
     "output_type": "stream",
     "text": [
      "Retrying downlod, attempt  1\n",
      "Retrying downlod, attempt  2\n",
      "Retrying downlod, attempt  3\n",
      "Retrying downlod, attempt  4\n"
     ]
    }
   ],
   "source": [
    "downlod()"
   ]
  },
  {
   "cell_type": "code",
   "execution_count": 105,
   "metadata": {},
   "outputs": [
    {
     "name": "stdout",
     "output_type": "stream",
     "text": [
      "Usage: grep [OPTION]... PATTERN [FILE]...\r\n",
      "Search for PATTERN in each FILE.\r\n",
      "Example: grep -i 'hello world' menu.h main.c\r\n",
      "\r\n",
      "Pattern selection and interpretation:\r\n",
      "  -E, --extended-regexp     PATTERN is an extended regular expression\r\n",
      "  -F, --fixed-strings       PATTERN is a set of newline-separated strings\r\n",
      "  -G, --basic-regexp        PATTERN is a basic regular expression (default)\r\n",
      "  -P, --perl-regexp         PATTERN is a Perl regular expression\r\n",
      "  -e, --regexp=PATTERN      use PATTERN for matching\r\n",
      "  -f, --file=FILE           obtain PATTERN from FILE\r\n",
      "  -i, --ignore-case         ignore case distinctions\r\n",
      "  -w, --word-regexp         force PATTERN to match only whole words\r\n",
      "  -x, --line-regexp         force PATTERN to match only whole lines\r\n",
      "  -z, --null-data           a data line ends in 0 byte, not newline\r\n",
      "\r\n",
      "Miscellaneous:\r\n",
      "  -s, --no-messages         suppress error messages\r\n",
      "  -v, --invert-match        select non-matching lines\r\n",
      "  -V, --version             display version information and exit\r\n",
      "      --help                display this help text and exit\r\n",
      "\r\n",
      "Output control:\r\n",
      "  -m, --max-count=NUM       stop after NUM selected lines\r\n",
      "  -b, --byte-offset         print the byte offset with output lines\r\n",
      "  -n, --line-number         print line number with output lines\r\n",
      "      --line-buffered       flush output on every line\r\n",
      "  -H, --with-filename       print file name with output lines\r\n",
      "  -h, --no-filename         suppress the file name prefix on output\r\n",
      "      --label=LABEL         use LABEL as the standard input file name prefix\r\n",
      "  -o, --only-matching       show only the part of a line matching PATTERN\r\n",
      "  -q, --quiet, --silent     suppress all normal output\r\n",
      "      --binary-files=TYPE   assume that binary files are TYPE;\r\n",
      "                            TYPE is 'binary', 'text', or 'without-match'\r\n",
      "  -a, --text                equivalent to --binary-files=text\r\n",
      "  -I                        equivalent to --binary-files=without-match\r\n",
      "  -d, --directories=ACTION  how to handle directories;\r\n",
      "                            ACTION is 'read', 'recurse', or 'skip'\r\n",
      "  -D, --devices=ACTION      how to handle devices, FIFOs and sockets;\r\n",
      "                            ACTION is 'read' or 'skip'\r\n",
      "  -r, --recursive           like --directories=recurse\r\n",
      "  -R, --dereference-recursive  likewise, but follow all symlinks\r\n",
      "      --include=FILE_PATTERN  search only files that match FILE_PATTERN\r\n",
      "      --exclude=FILE_PATTERN  skip files and directories matching FILE_PATTERN\r\n",
      "      --exclude-from=FILE   skip files matching any file pattern from FILE\r\n",
      "      --exclude-dir=PATTERN  directories that match PATTERN will be skipped.\r\n",
      "  -L, --files-without-match  print only names of FILEs with no selected lines\r\n",
      "  -l, --files-with-matches  print only names of FILEs with selected lines\r\n",
      "  -c, --count               print only a count of selected lines per FILE\r\n",
      "  -T, --initial-tab         make tabs line up (if needed)\r\n",
      "  -Z, --null                print 0 byte after FILE name\r\n",
      "\r\n",
      "Context control:\r\n",
      "  -B, --before-context=NUM  print NUM lines of leading context\r\n",
      "  -A, --after-context=NUM   print NUM lines of trailing context\r\n",
      "  -C, --context=NUM         print NUM lines of output context\r\n",
      "  -NUM                      same as --context=NUM\r\n",
      "      --color[=WHEN],\r\n",
      "      --colour[=WHEN]       use markers to highlight the matching strings;\r\n",
      "                            WHEN is 'always', 'never', or 'auto'\r\n",
      "  -U, --binary              do not strip CR characters at EOL (MSDOS/Windows)\r\n",
      "\r\n",
      "When FILE is '-', read standard input.  With no FILE, read '.' if\r\n",
      "recursive, '-' otherwise.  With fewer than two FILEs, assume -h.\r\n",
      "Exit status is 0 if any line is selected, 1 otherwise;\r\n",
      "if any error occurs and -q is not given, the exit status is 2.\r\n",
      "\r\n",
      "Report bugs to: bug-grep@gnu.org\r\n",
      "GNU grep home page: <http://www.gnu.org/software/grep/>\r\n",
      "General help using GNU software: <http://www.gnu.org/gethelp/>\r\n"
     ]
    }
   ],
   "source": [
    "!grep --help"
   ]
  },
  {
   "cell_type": "markdown",
   "metadata": {},
   "source": [
    "### Libraries that make use of decorators###\n",
    "\n",
    "-- [click](https://click.palletsprojects.com/en/7.x/) is library which makes use of decorators to build commandline tools"
   ]
  },
  {
   "cell_type": "markdown",
   "metadata": {},
   "source": [
    "### Profile ###"
   ]
  },
  {
   "cell_type": "code",
   "execution_count": 106,
   "metadata": {},
   "outputs": [
    {
     "name": "stdout",
     "output_type": "stream",
     "text": [
      "Writing task.py\n"
     ]
    }
   ],
   "source": [
    "%%file task.py\n",
    "import math\n",
    "import time\n",
    "import sys\n",
    "\n",
    "\n",
    "def square(x):\n",
    "    return x*x\n",
    "\n",
    "def delay():\n",
    "    time.sleep(1)\n",
    "\n",
    "def compute_task(n):\n",
    "    s = 0\n",
    "    for i in range(n):\n",
    "        s += square(i)\n",
    "    print(s)\n",
    "    \n",
    "    s = 0\n",
    "    for i in range(n):\n",
    "        s += math.sqrt(i)\n",
    "    print(s)\n",
    "    \n",
    "    for i in range(5):\n",
    "        delay()\n",
    "        \n",
    "if __name__ == \"__main__\":\n",
    "    compute_task(int(sys.argv[1]))"
   ]
  },
  {
   "cell_type": "code",
   "execution_count": 109,
   "metadata": {},
   "outputs": [
    {
     "name": "stdout",
     "output_type": "stream",
     "text": [
      "333333283333335000000\n",
      "21081849486.439312\n",
      "         20000231 function calls in 8.845 seconds\n",
      "\n",
      "   Ordered by: standard name\n",
      "\n",
      "   ncalls  tottime  percall  cumtime  percall filename:lineno(function)\n",
      "        1    0.000    0.000    0.000    0.000 <frozen importlib._bootstrap>:103(release)\n",
      "        1    0.000    0.000    0.000    0.000 <frozen importlib._bootstrap>:143(__init__)\n",
      "        1    0.000    0.000    0.000    0.000 <frozen importlib._bootstrap>:147(__enter__)\n",
      "        1    0.000    0.000    0.000    0.000 <frozen importlib._bootstrap>:151(__exit__)\n",
      "        1    0.000    0.000    0.000    0.000 <frozen importlib._bootstrap>:157(_get_module_lock)\n",
      "        1    0.000    0.000    0.000    0.000 <frozen importlib._bootstrap>:176(cb)\n",
      "        2    0.000    0.000    0.000    0.000 <frozen importlib._bootstrap>:211(_call_with_frames_removed)\n",
      "       19    0.000    0.000    0.000    0.000 <frozen importlib._bootstrap>:222(_verbose_message)\n",
      "        1    0.000    0.000    0.000    0.000 <frozen importlib._bootstrap>:307(__init__)\n",
      "        1    0.000    0.000    0.000    0.000 <frozen importlib._bootstrap>:311(__enter__)\n",
      "        1    0.000    0.000    0.000    0.000 <frozen importlib._bootstrap>:318(__exit__)\n",
      "        4    0.000    0.000    0.000    0.000 <frozen importlib._bootstrap>:321(<genexpr>)\n",
      "        1    0.000    0.000    0.000    0.000 <frozen importlib._bootstrap>:369(__init__)\n",
      "        1    0.000    0.000    0.000    0.000 <frozen importlib._bootstrap>:403(cached)\n",
      "        1    0.000    0.000    0.000    0.000 <frozen importlib._bootstrap>:416(parent)\n",
      "        1    0.000    0.000    0.000    0.000 <frozen importlib._bootstrap>:424(has_location)\n",
      "        1    0.000    0.000    0.000    0.000 <frozen importlib._bootstrap>:504(_init_module_attrs)\n",
      "        1    0.000    0.000    0.000    0.000 <frozen importlib._bootstrap>:576(module_from_spec)\n",
      "        1    0.000    0.000    0.000    0.000 <frozen importlib._bootstrap>:58(__init__)\n",
      "        1    0.000    0.000    0.000    0.000 <frozen importlib._bootstrap>:663(_load_unlocked)\n",
      "        1    0.000    0.000    0.000    0.000 <frozen importlib._bootstrap>:719(find_spec)\n",
      "        1    0.000    0.000    0.000    0.000 <frozen importlib._bootstrap>:78(acquire)\n",
      "        1    0.000    0.000    0.000    0.000 <frozen importlib._bootstrap>:792(find_spec)\n",
      "        3    0.000    0.000    0.000    0.000 <frozen importlib._bootstrap>:855(__enter__)\n",
      "        3    0.000    0.000    0.000    0.000 <frozen importlib._bootstrap>:859(__exit__)\n",
      "        1    0.000    0.000    0.000    0.000 <frozen importlib._bootstrap>:882(_find_spec)\n",
      "        1    0.000    0.000    0.000    0.000 <frozen importlib._bootstrap>:948(_find_and_load_unlocked)\n",
      "        1    0.000    0.000    0.000    0.000 <frozen importlib._bootstrap>:978(_find_and_load)\n",
      "        1    0.000    0.000    0.000    0.000 <frozen importlib._bootstrap_external>:1029(__init__)\n",
      "        1    0.000    0.000    0.000    0.000 <frozen importlib._bootstrap_external>:1040(create_module)\n",
      "        1    0.000    0.000    0.000    0.000 <frozen importlib._bootstrap_external>:1048(exec_module)\n",
      "        5    0.000    0.000    0.000    0.000 <frozen importlib._bootstrap_external>:1203(_path_importer_cache)\n",
      "        1    0.000    0.000    0.000    0.000 <frozen importlib._bootstrap_external>:1240(_get_spec)\n",
      "        1    0.000    0.000    0.000    0.000 <frozen importlib._bootstrap_external>:1272(find_spec)\n",
      "        1    0.000    0.000    0.000    0.000 <frozen importlib._bootstrap_external>:1351(_get_spec)\n",
      "        4    0.000    0.000    0.000    0.000 <frozen importlib._bootstrap_external>:1356(find_spec)\n",
      "        1    0.000    0.000    0.000    0.000 <frozen importlib._bootstrap_external>:369(_get_cached)\n",
      "        4    0.000    0.000    0.000    0.000 <frozen importlib._bootstrap_external>:40(_relax_case)\n",
      "       16    0.000    0.000    0.000    0.000 <frozen importlib._bootstrap_external>:56(_path_join)\n",
      "        1    0.000    0.000    0.000    0.000 <frozen importlib._bootstrap_external>:574(spec_from_file_location)\n",
      "       16    0.000    0.000    0.000    0.000 <frozen importlib._bootstrap_external>:58(<listcomp>)\n",
      "        5    0.000    0.000    0.000    0.000 <frozen importlib._bootstrap_external>:74(_path_stat)\n",
      "        1    0.000    0.000    0.000    0.000 <frozen importlib._bootstrap_external>:84(_path_is_mode_type)\n",
      "        1    0.000    0.000    0.000    0.000 <frozen importlib._bootstrap_external>:93(_path_isfile)\n",
      "        1    0.000    0.000    8.845    8.845 task.py:1(<module>)\n",
      "        1    2.586    2.586    8.844    8.844 task.py:12(compute_task)\n",
      " 10000000    0.641    0.000    0.641    0.000 task.py:6(square)\n",
      "        5    0.000    0.000    5.006    1.001 task.py:9(delay)\n",
      "        5    0.000    0.000    0.000    0.000 {built-in method _imp.acquire_lock}\n",
      "        1    0.000    0.000    0.000    0.000 {built-in method _imp.create_dynamic}\n",
      "        1    0.000    0.000    0.000    0.000 {built-in method _imp.exec_dynamic}\n",
      "        1    0.000    0.000    0.000    0.000 {built-in method _imp.is_builtin}\n",
      "        1    0.000    0.000    0.000    0.000 {built-in method _imp.is_frozen}\n",
      "        5    0.000    0.000    0.000    0.000 {built-in method _imp.release_lock}\n",
      "        2    0.000    0.000    0.000    0.000 {built-in method _thread.allocate_lock}\n",
      "        2    0.000    0.000    0.000    0.000 {built-in method _thread.get_ident}\n",
      "        1    0.000    0.000    0.000    0.000 {built-in method builtins.any}\n",
      "        1    0.000    0.000    8.845    8.845 {built-in method builtins.exec}\n",
      "        6    0.000    0.000    0.000    0.000 {built-in method builtins.getattr}\n",
      "        6    0.000    0.000    0.000    0.000 {built-in method builtins.hasattr}\n",
      "        5    0.000    0.000    0.000    0.000 {built-in method builtins.isinstance}\n",
      "        2    0.000    0.000    0.000    0.000 {built-in method builtins.print}\n",
      " 10000000    0.612    0.000    0.612    0.000 {built-in method math.sqrt}\n",
      "        1    0.000    0.000    0.000    0.000 {built-in method posix.fspath}\n",
      "        1    0.000    0.000    0.000    0.000 {built-in method posix.getcwd}\n",
      "        5    0.000    0.000    0.000    0.000 {built-in method posix.stat}\n",
      "        5    5.006    1.001    5.006    1.001 {built-in method time.sleep}\n",
      "        1    0.000    0.000    0.000    0.000 {method 'disable' of '_lsprof.Profiler' objects}\n",
      "        2    0.000    0.000    0.000    0.000 {method 'endswith' of 'str' objects}\n",
      "        2    0.000    0.000    0.000    0.000 {method 'get' of 'dict' objects}\n",
      "       16    0.000    0.000    0.000    0.000 {method 'join' of 'str' objects}\n",
      "        6    0.000    0.000    0.000    0.000 {method 'rpartition' of 'str' objects}\n",
      "       32    0.000    0.000    0.000    0.000 {method 'rstrip' of 'str' objects}\n",
      "\n",
      "\n"
     ]
    }
   ],
   "source": [
    "!python -m cProfile task.py 10000000"
   ]
  },
  {
   "cell_type": "code",
   "execution_count": 110,
   "metadata": {},
   "outputs": [],
   "source": [
    "import task"
   ]
  },
  {
   "cell_type": "code",
   "execution_count": 111,
   "metadata": {},
   "outputs": [],
   "source": [
    "import cProfile"
   ]
  },
  {
   "cell_type": "code",
   "execution_count": 112,
   "metadata": {},
   "outputs": [
    {
     "name": "stdout",
     "output_type": "stream",
     "text": [
      "333283335000\n",
      "666616.4591971082\n",
      "         20076 function calls in 5.021 seconds\n",
      "\n",
      "   Ordered by: standard name\n",
      "\n",
      "   ncalls  tottime  percall  cumtime  percall filename:lineno(function)\n",
      "        1    0.000    0.000    5.021    5.021 <string>:1(<module>)\n",
      "        5    0.000    0.000    0.000    0.000 iostream.py:195(schedule)\n",
      "        4    0.000    0.000    0.000    0.000 iostream.py:307(_is_master_process)\n",
      "        4    0.000    0.000    0.000    0.000 iostream.py:320(_schedule_flush)\n",
      "        4    0.000    0.000    0.000    0.000 iostream.py:382(write)\n",
      "        5    0.000    0.000    0.000    0.000 iostream.py:93(_event_pipe)\n",
      "        5    0.000    0.000    0.000    0.000 socket.py:337(send)\n",
      "        1    0.010    0.010    5.021    5.021 task.py:12(compute_task)\n",
      "    10000    0.002    0.000    0.002    0.000 task.py:6(square)\n",
      "        5    0.000    0.000    5.006    1.001 task.py:9(delay)\n",
      "        5    0.000    0.000    0.000    0.000 threading.py:1038(_wait_for_tstate_lock)\n",
      "        5    0.000    0.000    0.000    0.000 threading.py:1080(is_alive)\n",
      "        5    0.000    0.000    0.000    0.000 threading.py:507(is_set)\n",
      "        1    0.000    0.000    5.021    5.021 {built-in method builtins.exec}\n",
      "        4    0.000    0.000    0.000    0.000 {built-in method builtins.isinstance}\n",
      "        2    0.000    0.000    0.000    0.000 {built-in method builtins.print}\n",
      "    10000    0.002    0.000    0.002    0.000 {built-in method math.sqrt}\n",
      "        4    0.000    0.000    0.000    0.000 {built-in method posix.getpid}\n",
      "        5    5.006    1.001    5.006    1.001 {built-in method time.sleep}\n",
      "        5    0.000    0.000    0.000    0.000 {method 'acquire' of '_thread.lock' objects}\n",
      "        5    0.000    0.000    0.000    0.000 {method 'append' of 'collections.deque' objects}\n",
      "        1    0.000    0.000    0.000    0.000 {method 'disable' of '_lsprof.Profiler' objects}\n",
      "\n",
      "\n"
     ]
    }
   ],
   "source": [
    "cProfile.run(\"task.compute_task(10000)\")"
   ]
  },
  {
   "cell_type": "code",
   "execution_count": 113,
   "metadata": {},
   "outputs": [
    {
     "name": "stdout",
     "output_type": "stream",
     "text": [
      "Help on function run in module cProfile:\n",
      "\n",
      "run(statement, filename=None, sort=-1)\n",
      "    Run statement under profiler optionally saving results in filename\n",
      "    \n",
      "    This function takes a single argument that can be passed to the\n",
      "    \"exec\" statement, and an optional file name.  In all cases this\n",
      "    routine attempts to \"exec\" its first argument and gather profiling\n",
      "    statistics from the execution. If no file name is present, then this\n",
      "    function automatically prints a simple profiling report, sorted by the\n",
      "    standard name string (file/line/function-name) that is presented in\n",
      "    each line.\n",
      "\n"
     ]
    }
   ],
   "source": [
    "help(cProfile.run)"
   ]
  },
  {
   "cell_type": "code",
   "execution_count": 114,
   "metadata": {},
   "outputs": [
    {
     "name": "stdout",
     "output_type": "stream",
     "text": [
      "333283335000\n",
      "666616.4591971082\n",
      "         20076 function calls in 5.013 seconds\n",
      "\n",
      "   Ordered by: call count\n",
      "\n",
      "   ncalls  tottime  percall  cumtime  percall filename:lineno(function)\n",
      "    10000    0.001    0.000    0.001    0.000 task.py:6(square)\n",
      "    10000    0.001    0.000    0.001    0.000 {built-in method math.sqrt}\n",
      "        5    0.000    0.000    0.000    0.000 {method 'acquire' of '_thread.lock' objects}\n",
      "        5    5.007    1.001    5.007    1.001 {built-in method time.sleep}\n",
      "        5    0.000    0.000    0.000    0.000 {method 'append' of 'collections.deque' objects}\n",
      "        5    0.000    0.000    5.007    1.001 task.py:9(delay)\n",
      "        5    0.000    0.000    0.000    0.000 iostream.py:93(_event_pipe)\n",
      "        5    0.000    0.000    0.000    0.000 iostream.py:195(schedule)\n",
      "        5    0.000    0.000    0.000    0.000 socket.py:337(send)\n",
      "        5    0.000    0.000    0.000    0.000 threading.py:507(is_set)\n",
      "        5    0.000    0.000    0.000    0.000 threading.py:1038(_wait_for_tstate_lock)\n",
      "        5    0.000    0.000    0.000    0.000 threading.py:1080(is_alive)\n",
      "        4    0.000    0.000    0.000    0.000 {built-in method posix.getpid}\n",
      "        4    0.000    0.000    0.000    0.000 {built-in method builtins.isinstance}\n",
      "        4    0.000    0.000    0.000    0.000 iostream.py:307(_is_master_process)\n",
      "        4    0.000    0.000    0.000    0.000 iostream.py:320(_schedule_flush)\n",
      "        4    0.000    0.000    0.000    0.000 iostream.py:382(write)\n",
      "        2    0.000    0.000    0.000    0.000 {built-in method builtins.print}\n",
      "        1    0.000    0.000    5.013    5.013 {built-in method builtins.exec}\n",
      "        1    0.004    0.004    5.013    5.013 task.py:12(compute_task)\n",
      "        1    0.000    0.000    5.013    5.013 <string>:1(<module>)\n",
      "        1    0.000    0.000    0.000    0.000 {method 'disable' of '_lsprof.Profiler' objects}\n",
      "\n",
      "\n"
     ]
    }
   ],
   "source": [
    "cProfile.run(\"task.compute_task(10000)\", sort=0)"
   ]
  },
  {
   "cell_type": "code",
   "execution_count": 115,
   "metadata": {},
   "outputs": [
    {
     "name": "stdout",
     "output_type": "stream",
     "text": [
      "333283335000\n",
      "666616.4591971082\n"
     ]
    }
   ],
   "source": [
    "cProfile.run(\"task.compute_task(10000)\", filename=\"task.prof\")"
   ]
  },
  {
   "cell_type": "code",
   "execution_count": 117,
   "metadata": {},
   "outputs": [
    {
     "name": "stdout",
     "output_type": "stream",
     "text": [
      "�)\u0003�\u0001~�\u0000\u0000\u0000\u0000�,<method 'acquire' of '_thread.lock' objects>)\u0005�\u0005\u0000\u0000\u0000r\u0004\u0000\u0000\u0000g�h㈵��>g�h㈵��>{)\u0003�2/home/vikrant/anaconda3/lib/python3.7/threading.pyi\u000e\u0004\u0000\u0000�\u0015_wait_for_tstate_lock)\u0004r\u0004\u0000\u0000\u0000r\u0004\u0000\u0000\u0000g�h㈵��>g�h㈵��>0)\u0003r\u0001\u0000\u0000\u0000r\u0002\u0000\u0000\u0000�\u001c",
      "<built-in method time.sleep>)\u0005r\u0004\u0000\u0000\u0000r\u0004\u0000\u0000\u0000g�}\u0002(F\u0006\u0014@g�}\u0002(F\u0006\u0014@{)\u0003�:/home/vikrant/trainings/2019/arcesium_advanced_sep/task.py�\t\u0000\u0000\u0000�\u0005delay)\u0004r\u0004\u0000\u0000\u0000r\u0004\u0000\u0000\u0000g�}\u0002(F\u0006\u0014@g�}\u0002(F\u0006\u0014@0)\u0003r\u0001\u0000\u0000\u0000r\u0002\u0000\u0000\u0000�0<method 'append' of 'collections.deque' objects>)\u0005r\u0004\u0000\u0000\u0000r\u0004\u0000\u0000\u0000g�����ư>g�����ư>{�\u0003�I/home/vikrant/anaconda3/lib/python3.7/site-packages/ipykernel/iostream.py��\u0000\u0000\u0000�\bschedule)\u0004r\u0004\u0000\u0000\u0000r\u0004\u0000\u0000\u0000g�����ư>g�����ư>0)\u0003r\u0001\u0000\u0000\u0000r\u0002\u0000\u0000\u0000�\u001e",
      "<built-in method posix.getpid>)\u0005�\u0004\u0000\u0000\u0000r\u0011\u0000\u0000\u0000g�������>g�������>{)\u0003r\r",
      "\u0000\u0000\u0000i3\u0001\u0000\u0000�\u0012_is_master_process)\u0004r\u0011\u0000\u0000\u0000r\u0011\u0000\u0000\u0000g�������>g�������>0)\u0003r\u0001\u0000\u0000\u0000r\u0002\u0000\u0000\u0000�\u001f<built-in method builtins.exec>)\u0005�\u0001\u0000\u0000\u0000r\u0014\u0000\u0000\u0000g!>��@\u0000?gg\t2\u0002*\f",
      "\u0014@{0)\u0003r\u0001\u0000\u0000\u0000r\u0002\u0000\u0000\u0000�%<built-in method builtins.isinstance>)\u0005r\u0011\u0000\u0000\u0000r\u0011\u0000\u0000\u0000g\u0000\u0000\u0000\u0000\u0000\u0000\u0000\u0000g\u0000\u0000\u0000\u0000\u0000\u0000\u0000\u0000{�\u0003r\r",
      "\u0000\u0000\u0000i~\u0001\u0000\u0000�\u0005write)\u0004r\u0011\u0000\u0000\u0000r\u0011\u0000\u0000\u0000g\u0000\u0000\u0000\u0000\u0000\u0000\u0000\u0000g\u0000\u0000\u0000\u0000\u0000\u0000\u0000\u00000)\u0003r\u0001\u0000\u0000\u0000r\u0002\u0000\u0000\u0000� <built-in method builtins.print>)\u0005�\u0002\u0000\u0000\u0000r\u0019\u0000\u0000\u0000g�h㈵��>gOʤ�6\u0000\u001b?{�\u0003r\b\u0000\u0000\u0000�\f",
      "\u0000\u0000\u0000�\f",
      "compute_task)\u0004r\u0019\u0000\u0000\u0000r\u0019\u0000\u0000\u0000g�h㈵��>gOʤ�6\u0000\u001b?0)\u0003r\b\u0000\u0000\u0000�\u0006\u0000\u0000\u0000�\u0006square)\u0005i\u0010'\u0000\u0000i\u0010'\u0000\u0000g\u0013�\u001a�N\bM?g\u0013�\u001a�N\bM?{r\u001a\u0000\u0000\u0000)\u0004i\u0010'\u0000\u0000i\u0010'\u0000\u0000g\u0013�\u001a�N\bM?g\u0013�\u001a�N\bM?0)\u0003r\b\u0000\u0000\u0000r\t\u0000\u0000\u0000r\r\n",
      "\u0000\u0000\u0000)\u0005r\u0004\u0000\u0000\u0000r\u0004\u0000\u0000\u0000g!>��@\u0010?g9a�hV\u0006\u0014@{r\u001a\u0000\u0000\u0000)\u0004r\u0004\u0000\u0000\u0000r\u0004\u0000\u0000\u0000g!>��@\u0010?g9a�hV\u0006\u0014@0)\u0003r\b\u0000\u0000\u0000r\u001b\u0000\u0000\u0000r\u001c",
      "\u0000\u0000\u0000)\u0005r\u0014\u0000\u0000\u0000r\u0014\u0000\u0000\u0000gG��5\\�n?g\u0007|~\u0018!\f",
      "\u0014@{)\u0003�\b<string>r\u0014\u0000\u0000\u0000�\b<module>)\u0004r\u0014\u0000\u0000\u0000r\u0014\u0000\u0000\u0000gG��5\\�n?g\u0007|~\u0018!\f",
      "\u0014@0)\u0003r\u001f\u0000\u0000\u0000r\u0014\u0000\u0000\u0000r \u0000\u0000\u0000)\u0005r\u0014\u0000\u0000\u0000r\u0014\u0000\u0000\u0000gT�\u0010qs*�>g�\u0017��!\f",
      "\u0014@{)\u0003r\u0001\u0000\u0000\u0000r\u0002\u0000\u0000\u0000r\u0013\u0000\u0000\u0000)\u0004r\u0014\u0000\u0000\u0000r\u0014\u0000\u0000\u0000gT�\u0010qs*�>g�\u0017��!\f",
      "\u0014@0)\u0003r\r",
      "\u0000\u0000\u0000�]\u0000\u0000\u0000�\u000b",
      "_event_pipe)\u0005r\u0004\u0000\u0000\u0000r\u0004\u0000\u0000\u0000g�������>g�������>{r\f",
      "\u0000\u0000\u0000)\u0004r\u0004\u0000\u0000\u0000r\u0004\u0000\u0000\u0000g�������>g�������>0)\u0003r\r",
      "\u0000\u0000\u0000r\u000e\u0000\u0000\u0000r\u000f\u0000\u0000\u0000)\u0005r\u0004\u0000\u0000\u0000r\u0004\u0000\u0000\u0000gh\u001d",
      "UM\u0010u�>gC�8\u0013\r\n",
      "\u0011?{)\u0003r\r",
      "\u0000\u0000\u0000i@\u0001\u0000\u0000�\u000f_schedule_flush)\u0004r\u0014\u0000\u0000\u0000r\u0014\u0000\u0000\u0000g�������>g�h㈵��>r\u0016\u0000\u0000\u0000)\u0004r\u0011\u0000\u0000\u0000r\u0011\u0000\u0000\u0000g\u0005�'eRC�>gJ�8���\f",
      "?0)\u0003r\r",
      "\u0000\u0000\u0000i3\u0001\u0000\u0000r\u0012\u0000\u0000\u0000)\u0005r\u0011\u0000\u0000\u0000r\u0011\u0000\u0000\u0000g�h㈵��>g?�̔���>{r\u0016\u0000\u0000\u0000)\u0004r\u0011\u0000\u0000\u0000r\u0011\u0000\u0000\u0000g�h㈵��>g?�̔���>0)\u0003r\r",
      "\u0000\u0000\u0000i@\u0001\u0000\u0000r#\u0000\u0000\u0000)\u0005r\u0011\u0000\u0000\u0000r\u0011\u0000\u0000\u0000g�������>gT�\u0010qs*�>{r\u0016\u0000\u0000\u0000)\u0004r\u0011\u0000\u0000\u0000r\u0011\u0000\u0000\u0000g�������>gT�\u0010qs*�>0)\u0003r\r",
      "\u0000\u0000\u0000i~\u0001\u0000\u0000r\u0017\u0000\u0000\u0000)\u0005r\u0011\u0000\u0000\u0000r\u0011\u0000\u0000\u0000gfL�\u001ag��>g1]��\u001fa\u0018?{)\u0003r\u0001\u0000\u0000\u0000r\u0002\u0000\u0000\u0000r\u0018\u0000\u0000\u0000)\u0004r\u0011\u0000\u0000\u0000r\u0011\u0000\u0000\u0000gfL�\u001ag��>g1]��\u001fa\u0018?0)\u0003�G/home/vikrant/anaconda3/lib/python3.7/site-packages/zmq/sugar/socket.pyiQ\u0001\u0000\u0000�\u0004send)\u0005r\u0004\u0000\u0000\u0000r\u0004\u0000\u0000\u0000g!>��@\u0000?g!>��@\u0000?{r\f",
      "\u0000\u0000\u0000)\u0004r\u0004\u0000\u0000\u0000r\u0004\u0000\u0000\u0000g!>��@\u0000?g!>��@\u0000?0)\u0003r\u0001\u0000\u0000\u0000r\u0002\u0000\u0000\u0000�0<method 'disable' of '_lsprof.Profiler' objects>)\u0005r\u0014\u0000\u0000\u0000r\u0014\u0000\u0000\u0000g�����ư>g�����ư>{0)\u0003r\u0005\u0000\u0000\u0000i�\u0001\u0000\u0000�\u0006is_set)\u0005r\u0004\u0000\u0000\u0000r\u0004\u0000\u0000\u0000g�����ư>g�����ư>{�\u0003r\u0005\u0000\u0000\u0000i8\u0004\u0000\u0000�\bis_alive)\u0004r\u0004\u0000\u0000\u0000r\u0004\u0000\u0000\u0000g�����ư>g�����ư>0)\u0003r\u0005\u0000\u0000\u0000i\u000e\u0004\u0000\u0000r\u0006\u0000\u0000\u0000)\u0005r\u0004\u0000\u0000\u0000r\u0004\u0000\u0000\u0000g�h㈵��>g�h㈵��>{r(\u0000\u0000\u0000)\u0004r\u0004\u0000\u0000\u0000r\u0004\u0000\u0000\u0000g�h㈵��>g�h㈵��>0)\u0003r\u0005\u0000\u0000\u0000i8\u0004\u0000\u0000r)\u0000\u0000\u0000)\u0005r\u0004\u0000\u0000\u0000r\u0004\u0000\u0000\u0000g�h㈵��>g�������>{r\f",
      "\u0000\u0000\u0000)\u0004r\u0004\u0000\u0000\u0000r\u0004\u0000\u0000\u0000g�h㈵��>g�������>0)\u0003r\u0001\u0000\u0000\u0000r\u0002\u0000\u0000\u0000�\u001b<built-in method math.sqrt>)\u0005i\u0010'\u0000\u0000i\u0010'\u0000\u0000g�_>Y1\\M?g�_>Y1\\M?{r\u001a\u0000\u0000\u0000)\u0004i\u0010'\u0000\u0000i\u0010'\u0000\u0000g�_>Y1\\M?g�_>Y1\\M?00"
     ]
    }
   ],
   "source": [
    "!tail -n 5 task.prof"
   ]
  },
  {
   "cell_type": "code",
   "execution_count": 118,
   "metadata": {},
   "outputs": [
    {
     "name": "stdout",
     "output_type": "stream",
     "text": [
      "> /home/vikrant/trainings/2019/arcesium_advanced_sep/task.py(1)<module>()\n",
      "-> import math\n",
      "(Pdb) \n",
      "--KeyboardInterrupt--\n",
      "(Pdb) "
     ]
    }
   ],
   "source": [
    "!python -m pdb task.py"
   ]
  },
  {
   "cell_type": "markdown",
   "metadata": {},
   "source": [
    "### Database ###"
   ]
  },
  {
   "cell_type": "code",
   "execution_count": 119,
   "metadata": {},
   "outputs": [],
   "source": [
    "import sqlite3"
   ]
  },
  {
   "cell_type": "code",
   "execution_count": 120,
   "metadata": {},
   "outputs": [],
   "source": [
    "conn = sqlite3.connect(\"data.db\") "
   ]
  },
  {
   "cell_type": "code",
   "execution_count": 121,
   "metadata": {},
   "outputs": [
    {
     "name": "stdout",
     "output_type": "stream",
     "text": [
      "Help on built-in function connect in module _sqlite3:\n",
      "\n",
      "connect(...)\n",
      "    connect(database[, timeout, detect_types, isolation_level,\n",
      "            check_same_thread, factory, cached_statements, uri])\n",
      "    \n",
      "    Opens a connection to the SQLite database file *database*. You can use\n",
      "    \":memory:\" to open a database connection to a database that resides in\n",
      "    RAM instead of on disk.\n",
      "\n"
     ]
    }
   ],
   "source": [
    "help(sqlite3.connect)"
   ]
  },
  {
   "cell_type": "code",
   "execution_count": 122,
   "metadata": {},
   "outputs": [],
   "source": [
    "cur = conn.cursor()"
   ]
  },
  {
   "cell_type": "code",
   "execution_count": 123,
   "metadata": {},
   "outputs": [
    {
     "data": {
      "text/plain": [
       "<sqlite3.Cursor at 0x7f2ddc1c3ab0>"
      ]
     },
     "execution_count": 123,
     "metadata": {},
     "output_type": "execute_result"
    }
   ],
   "source": [
    "cur.execute(\"create table person (name varchar(100), email varchar(100))\")"
   ]
  },
  {
   "cell_type": "code",
   "execution_count": 124,
   "metadata": {},
   "outputs": [
    {
     "data": {
      "text/plain": [
       "<sqlite3.Cursor at 0x7f2ddc1c3ab0>"
      ]
     },
     "execution_count": 124,
     "metadata": {},
     "output_type": "execute_result"
    }
   ],
   "source": [
    "cur.execute(\"insert into person (name, email) values('alice', 'alice@wonder.land')\")"
   ]
  },
  {
   "cell_type": "code",
   "execution_count": 125,
   "metadata": {},
   "outputs": [],
   "source": [
    "cur = cur.execute(\"select * from person\")"
   ]
  },
  {
   "cell_type": "code",
   "execution_count": 126,
   "metadata": {},
   "outputs": [
    {
     "data": {
      "text/plain": [
       "[('alice', 'alice@wonder.land')]"
      ]
     },
     "execution_count": 126,
     "metadata": {},
     "output_type": "execute_result"
    }
   ],
   "source": [
    "cur.fetchall()"
   ]
  },
  {
   "cell_type": "code",
   "execution_count": 144,
   "metadata": {},
   "outputs": [],
   "source": [
    "def find_person_(conn, email):\n",
    "    ## not a good way\n",
    "    q = \"select * from person where email={}\".format(email)\n",
    "    cur = conn.cursor()\n",
    "    return cur.execute(q).fetchall()"
   ]
  },
  {
   "cell_type": "code",
   "execution_count": 130,
   "metadata": {},
   "outputs": [
    {
     "data": {
      "text/plain": [
       "[('alice', 'alice@wonder.land')]"
      ]
     },
     "execution_count": 130,
     "metadata": {},
     "output_type": "execute_result"
    }
   ],
   "source": [
    "find_person(conn, \"alice@wonder.land\")"
   ]
  },
  {
   "cell_type": "code",
   "execution_count": 132,
   "metadata": {},
   "outputs": [],
   "source": [
    "def find_person(conn, email):\n",
    "    q = \"select * from person where email=?\"\n",
    "    cur = conn.cursor()\n",
    "    return cur.execute(q, (email, )).fetchall()"
   ]
  },
  {
   "cell_type": "code",
   "execution_count": 133,
   "metadata": {},
   "outputs": [
    {
     "data": {
      "text/plain": [
       "[('alice', 'alice@wonder.land')]"
      ]
     },
     "execution_count": 133,
     "metadata": {},
     "output_type": "execute_result"
    }
   ],
   "source": [
    "find_person(conn, \"alice@wonder.land\")"
   ]
  },
  {
   "cell_type": "code",
   "execution_count": 134,
   "metadata": {},
   "outputs": [],
   "source": [
    "conn.commit()"
   ]
  },
  {
   "cell_type": "code",
   "execution_count": 135,
   "metadata": {},
   "outputs": [],
   "source": [
    "conn.close()"
   ]
  },
  {
   "cell_type": "code",
   "execution_count": 136,
   "metadata": {},
   "outputs": [],
   "source": [
    "conn = sqlite3.connect(\"data.db\")"
   ]
  },
  {
   "cell_type": "code",
   "execution_count": 137,
   "metadata": {},
   "outputs": [
    {
     "data": {
      "text/plain": [
       "[]"
      ]
     },
     "execution_count": 137,
     "metadata": {},
     "output_type": "execute_result"
    }
   ],
   "source": [
    "find_person(conn, \"*\")"
   ]
  },
  {
   "cell_type": "code",
   "execution_count": 146,
   "metadata": {},
   "outputs": [
    {
     "data": {
      "text/plain": [
       "[('alice', 'alice@wonder.land')]"
      ]
     },
     "execution_count": 146,
     "metadata": {},
     "output_type": "execute_result"
    }
   ],
   "source": [
    "find_person_(conn, \"'alice' or 1=1\")"
   ]
  },
  {
   "cell_type": "code",
   "execution_count": 147,
   "metadata": {},
   "outputs": [
    {
     "data": {
      "text/plain": [
       "[]"
      ]
     },
     "execution_count": 147,
     "metadata": {},
     "output_type": "execute_result"
    }
   ],
   "source": [
    "find_person(conn, \"'alice' or 1=1\")"
   ]
  },
  {
   "cell_type": "code",
   "execution_count": 148,
   "metadata": {},
   "outputs": [],
   "source": [
    "records = [\n",
    "    (\"alex\", \"alex@zoo.us\"),\n",
    "    (\"Elsa\", \"elsa@frozen\"),\n",
    "    (\"Elisa\", \"elisa@hacker.com\")\n",
    "]"
   ]
  },
  {
   "cell_type": "code",
   "execution_count": 149,
   "metadata": {},
   "outputs": [],
   "source": [
    "cur = conn.cursor()"
   ]
  },
  {
   "cell_type": "code",
   "execution_count": 150,
   "metadata": {},
   "outputs": [
    {
     "data": {
      "text/plain": [
       "<sqlite3.Cursor at 0x7f2ddc6e9a40>"
      ]
     },
     "execution_count": 150,
     "metadata": {},
     "output_type": "execute_result"
    }
   ],
   "source": [
    "cur.executemany(\"insert into person values(?, ?)\", records)"
   ]
  },
  {
   "cell_type": "code",
   "execution_count": 152,
   "metadata": {},
   "outputs": [
    {
     "data": {
      "text/plain": [
       "[('alice', 'alice@wonder.land'),\n",
       " ('alex', 'alex@zoo.us'),\n",
       " ('Elsa', 'elsa@frozen'),\n",
       " ('Elisa', 'elisa@hacker.com')]"
      ]
     },
     "execution_count": 152,
     "metadata": {},
     "output_type": "execute_result"
    }
   ],
   "source": [
    "cur.execute(\"select * from person\").fetchall()"
   ]
  },
  {
   "cell_type": "code",
   "execution_count": null,
   "metadata": {},
   "outputs": [],
   "source": []
  }
 ],
 "metadata": {
  "kernelspec": {
   "display_name": "Python 3",
   "language": "python",
   "name": "python3"
  },
  "language_info": {
   "codemirror_mode": {
    "name": "ipython",
    "version": 3
   },
   "file_extension": ".py",
   "mimetype": "text/x-python",
   "name": "python",
   "nbconvert_exporter": "python",
   "pygments_lexer": "ipython3",
   "version": "3.7.3"
  }
 },
 "nbformat": 4,
 "nbformat_minor": 4
}
